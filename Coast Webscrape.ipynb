{
 "cells": [
  {
   "cell_type": "code",
   "execution_count": 12,
   "metadata": {},
   "outputs": [],
   "source": [
    "from selenium import webdriver\n",
    "from selenium.webdriver.common.keys import Keys\n",
    "from selenium.webdriver.support import expected_conditions as EC\n",
    "from selenium.webdriver.common.by import By\n",
    "from selenium.webdriver.support.wait import WebDriverWait\n",
    "options = webdriver.ChromeOptions()\n",
    "options.add_argument(\"--no-sandbox\")\n",
    "options.add_argument(\"--disable-infobars\")\n",
    "# options.add_argument(\"--headless\")\n",
    "options.add_argument(\"--disable-gpu\")\n",
    "options.add_experimental_option(\"prefs\", { \\\n",
    "    \"profile.default_content_setting_values.media_stream_mic\": 2,     # 1:allow, 2:block \n",
    "    \"profile.default_content_setting_values.media_stream_camera\": 2,  # 1:allow, 2:block \n",
    "    \"profile.default_content_setting_values.geolocation\": 2,          # 1:allow, 2:block \n",
    "    \"profile.default_content_setting_values.notifications\": 2         # 1:allow, 2:block \n",
    "  })\n",
    "\n",
    "import pandas as pd"
   ]
  },
  {
   "cell_type": "code",
   "execution_count": 13,
   "metadata": {},
   "outputs": [],
   "source": [
    "# declare global variables\n",
    "\n",
    "WAIT_TIME = 10 # seconds\n",
    "\n",
    "# default input & output file names\n",
    "input_file = 'rhythm_tech_products.csv'\n",
    "output_file = 'rhythm_tech_output.csv'\n",
    "url = 'https://coastmusiconline.com'\n",
    "\n",
    "username = ''\n",
    "password = ''"
   ]
  },
  {
   "cell_type": "code",
   "execution_count": 14,
   "metadata": {},
   "outputs": [],
   "source": [
    "# create empty dataframe\n",
    "df = pd.DataFrame(columns=['Product Name', 'Product Vendor', 'Product Model', 'Product List Price', 'Product MAP Price', 'Product Cost', 'Product Description', 'Product Image URL'])\n",
    "\n",
    "product_df = pd.read_csv(input_file)\n",
    "product_list = product_df['Variant SKU'].tolist()"
   ]
  },
  {
   "cell_type": "code",
   "execution_count": 15,
   "metadata": {},
   "outputs": [
    {
     "name": "stdout",
     "output_type": "stream",
     "text": [
      "Scraping data for 2 products:\n",
      "\tMC2\n",
      "\tTCFML\n"
     ]
    }
   ],
   "source": [
    "print(f'Scraping data for {len(product_list)} products:')\n",
    "for product in product_list:\n",
    "    print(f'\\t{product}')"
   ]
  },
  {
   "cell_type": "code",
   "execution_count": 16,
   "metadata": {},
   "outputs": [
    {
     "name": "stderr",
     "output_type": "stream",
     "text": [
      "C:\\Users\\AYNM\\AppData\\Local\\Temp\\ipykernel_19344\\600678085.py:1: DeprecationWarning: executable_path has been deprecated, please pass in a Service object\n",
      "  driver = webdriver.Chrome('./chromedriver.exe', chrome_options=options)\n",
      "C:\\Users\\AYNM\\AppData\\Local\\Temp\\ipykernel_19344\\600678085.py:1: DeprecationWarning: use options instead of chrome_options\n",
      "  driver = webdriver.Chrome('./chromedriver.exe', chrome_options=options)\n"
     ]
    },
    {
     "name": "stdout",
     "output_type": "stream",
     "text": [
      "Opening https://coastmusiconline.com in Chrome browser...\n"
     ]
    }
   ],
   "source": [
    "driver = webdriver.Chrome('./chromedriver.exe', chrome_options=options)\n",
    "print(f'Opening {url} in Chrome browser...')\n",
    "driver.get(url)\n",
    "products_not_found = 0\n",
    "products_not_found_list = []"
   ]
  },
  {
   "cell_type": "code",
   "execution_count": 17,
   "metadata": {},
   "outputs": [],
   "source": [
    "#click login link\n",
    "login_link = WebDriverWait(driver, WAIT_TIME).until(EC.element_to_be_clickable((By.CSS_SELECTOR, 'a[id=\"loginLink\"]'))).click()\n"
   ]
  },
  {
   "cell_type": "code",
   "execution_count": 18,
   "metadata": {},
   "outputs": [],
   "source": [
    "# enter username\n",
    "username_input = WebDriverWait(driver, WAIT_TIME).until(EC.element_to_be_clickable((By.CSS_SELECTOR, 'input[id=\"Username\"]')))\n",
    "username_input.clear()\n",
    "username_input.send_keys(username)\n"
   ]
  },
  {
   "cell_type": "code",
   "execution_count": 19,
   "metadata": {},
   "outputs": [],
   "source": [
    "# enter password\n",
    "password_input = WebDriverWait(driver, WAIT_TIME).until(EC.element_to_be_clickable((By.CSS_SELECTOR, 'input[id=\"Password\"]')))\n",
    "password_input.clear()\n",
    "password_input.send_keys(password)\n",
    "    "
   ]
  },
  {
   "cell_type": "code",
   "execution_count": 20,
   "metadata": {},
   "outputs": [],
   "source": [
    "# click login button\n",
    "login_button = WebDriverWait(driver, WAIT_TIME).until(EC.element_to_be_clickable((By.CSS_SELECTOR, 'input[value=\"Login\"]'))).click()"
   ]
  },
  {
   "cell_type": "code",
   "execution_count": 21,
   "metadata": {},
   "outputs": [
    {
     "name": "stdout",
     "output_type": "stream",
     "text": [
      "vendor: Boblen\n",
      "title: Archtop A-style Mandolin Case Pear Shaped With Plush Lining\n",
      "model: MC2\n",
      "dealer price: 88.56\n",
      "list price: 164.00\n",
      "description: Made in Canada, Sturdy and Solid. Boblen MC221 is an archtop A-style mandolin case, with plush lining. Stylish with Plush Lining to protect your instrument.Fits Archtop A-Style Mandolins\n",
      "Hardshell Case\n",
      "Plush Lining\n",
      "Multiple Closure Points\n",
      "Sturdy\n",
      "MADE IN CANADA\n",
      "Dimensions: 27.5\" (length), 10.5\" (width), 2.5\" (depth).\n",
      "img url: https://s3.amazonaws.com/b2b-coastmusic/items/Boblen/MC221/MC221~lg.jpg\n",
      "------\n",
      "\n",
      "vendor: Rhythm Tech\n",
      "title: Fiberglass Maracas - Large - Black\n",
      "model: TCFML\n",
      "dealer price: 10.70\n",
      "list price: 26.75\n",
      "description: Our Fiber Maracas come in two sizes and they each have a bright, present sound and lively attack.\n",
      "img url: https://s3.amazonaws.com/b2b-coastmusic/items/RhythmTech/TCFML/TCFML~lg.jpg\n",
      "------\n",
      "\n"
     ]
    }
   ],
   "source": [
    "for product_model in product_list:\n",
    "    # enter product model in search box\n",
    "    search_input = WebDriverWait(driver, WAIT_TIME).until(EC.element_to_be_clickable((By.CSS_SELECTOR, 'input[id=\"searchBox\"]')))\n",
    "    search_input.clear()\n",
    "    search_input.send_keys(product_model)\n",
    "    search_input.send_keys(Keys.RETURN)\n",
    "\n",
    "    # click product link\n",
    "    try:\n",
    "        product_link = WebDriverWait(driver, WAIT_TIME).until(EC.element_to_be_clickable((By.XPATH, f\"//a[contains(@href, '{product_model}')]\"))).click()\n",
    "    except:\n",
    "            print(f'Product {product_model} not found')\n",
    "            products_not_found += 1\n",
    "            products_not_found_list.append(product_model)\n",
    "            continue\n",
    "    \n",
    "    try:\n",
    "        product_vendor = WebDriverWait(driver, WAIT_TIME).until(EC.element_to_be_clickable((By.CSS_SELECTOR, \"div[class='catalogTileBrand']\"))).text.strip()\n",
    "    except:\n",
    "        product_vendor = 'Not found'\n",
    "        print('Product vendor not found')\n",
    "    \n",
    "    try:\n",
    "        product_title = WebDriverWait(driver, WAIT_TIME).until(EC.element_to_be_clickable((By.CSS_SELECTOR, \"div[id='itemTitle']\"))).text.strip()\n",
    "    except:\n",
    "        product_title = ''\n",
    "        print('Product title not found')\n",
    "\n",
    "    # product_model = WebDriverWait(driver, WAIT_TIME).until(EC.element_to_be_clickable((By.CSS_SELECTOR, \"div[class='catalogTileID ']\"))).text.split(':')[1].strip()\n",
    "\n",
    "    try:\n",
    "        dealer_price = WebDriverWait(driver, WAIT_TIME).until(EC.element_to_be_clickable((By.CSS_SELECTOR, \"div[id='dealerPrice']\"))).text.split(':')[1].strip().replace('$','')\n",
    "    except:\n",
    "        dealer_price = 0\n",
    "        print('Dealer price not found')\n",
    "\n",
    "    try:\n",
    "        list_price = WebDriverWait(driver, WAIT_TIME).until(EC.element_to_be_clickable((By.CSS_SELECTOR, \"div[class='productDetailListPrice']\"))).text.split(':')[1].strip().replace('$','')\n",
    "        map_price = ''\n",
    "    except:\n",
    "        list_price = ''\n",
    "        map_price = WebDriverWait(driver, WAIT_TIME).until(EC.element_to_be_clickable((By.CSS_SELECTOR, \"div[class='productDetailMapPrice']\"))).text.split(':')[1].strip().replace('$','')\n",
    "\n",
    "    try:\n",
    "        product_description = WebDriverWait(driver, WAIT_TIME).until(EC.element_to_be_clickable((By.CSS_SELECTOR, \"div[class='prodcutDescriptionLong']\"))).text\n",
    "    except:\n",
    "        product_description = ''\n",
    "        print('Product description not found')\n",
    "\n",
    "    try:\n",
    "        product_bullets = WebDriverWait(driver, WAIT_TIME).until(EC.element_to_be_clickable((By.CSS_SELECTOR, \"ul[id='itemBullets']\"))).text\n",
    "    except:\n",
    "        product_bullets = ''\n",
    "    \n",
    "    try:\n",
    "        img_url = WebDriverWait(driver, WAIT_TIME).until(EC.element_to_be_clickable((By.CSS_SELECTOR, \"img[id='mainImage']\"))).get_attribute('src')\n",
    "    except:\n",
    "        img_url = 'Not found'\n",
    "        print('Image url not found')\n",
    "\n",
    "    print(f'vendor: {product_vendor}')\n",
    "    print(f'title: {product_title}')\n",
    "    print(f'model: {product_model}')\n",
    "    print(f'dealer price: {dealer_price}')\n",
    "    if len(map_price) > 0:\n",
    "        print(f'map price: {map_price}')\n",
    "    else:\n",
    "        print(f'list price: {list_price}')\n",
    "    print(f'description: {product_description + product_bullets}')\n",
    "    print(f'img url: {img_url}')\n",
    "    print('------\\n')\n",
    "\n",
    "    # add row to dataframe\n",
    "    row = {'Product Name': product_title, 'Product Vendor': product_vendor, 'Product Model': product_model, 'Product List Price': list_price, 'Product MAP Price': map_price, 'Product Cost': dealer_price, 'Product Description': product_description + product_bullets, 'Product Image URL': img_url}\n",
    "    df_new_row = pd.DataFrame([row])\n",
    "    df = pd.concat([df, df_new_row], axis=0, ignore_index=True)\n",
    "\n"
   ]
  },
  {
   "cell_type": "code",
   "execution_count": 22,
   "metadata": {},
   "outputs": [
    {
     "name": "stdout",
     "output_type": "stream",
     "text": [
      "Results saved to CSV file\n",
      "\n",
      "Results:\n",
      "                                        Product Name Product Vendor  \\\n",
      "0  Archtop A-style Mandolin Case Pear Shaped With...         Boblen   \n",
      "1                 Fiberglass Maracas - Large - Black    Rhythm Tech   \n",
      "\n",
      "  Product Model Product List Price Product MAP Price Product Cost  \\\n",
      "0           MC2             164.00                          88.56   \n",
      "1         TCFML              26.75                          10.70   \n",
      "\n",
      "                                 Product Description  \\\n",
      "0  Made in Canada, Sturdy and Solid. Boblen MC221...   \n",
      "1  Our Fiber Maracas come in two sizes and they e...   \n",
      "\n",
      "                                   Product Image URL  \n",
      "0  https://s3.amazonaws.com/b2b-coastmusic/items/...  \n",
      "1  https://s3.amazonaws.com/b2b-coastmusic/items/...  \n",
      "Number of products found: 2\n",
      "\n",
      "Number of products not found: 0\n",
      "\n"
     ]
    }
   ],
   "source": [
    "# save dataframe to CSV file\n",
    "df.to_csv(output_file, index=False)\n",
    "print('Results saved to CSV file\\n')\n",
    "\n",
    "print('Results:')\n",
    "print(df)\n",
    "\n",
    "print(f'Number of products found: {len(df)}\\n')\n",
    "print(f'Number of products not found: {products_not_found}\\n')\n",
    "if products_not_found > 0:\n",
    "    print('Products not found:')\n",
    "    for product in products_not_found_list:\n",
    "        print(f'\\t{product}')\n",
    "\n",
    "# close browser\n",
    "driver.close()\n",
    "driver.quit()"
   ]
  }
 ],
 "metadata": {
  "kernelspec": {
   "display_name": "Python 3",
   "language": "python",
   "name": "python3"
  },
  "language_info": {
   "codemirror_mode": {
    "name": "ipython",
    "version": 3
   },
   "file_extension": ".py",
   "mimetype": "text/x-python",
   "name": "python",
   "nbconvert_exporter": "python",
   "pygments_lexer": "ipython3",
   "version": "3.11.1"
  },
  "orig_nbformat": 4,
  "vscode": {
   "interpreter": {
    "hash": "22483d8b1f965d2452c1b511f44a4bd7e49889fc595967579bd60fcd72e140d1"
   }
  }
 },
 "nbformat": 4,
 "nbformat_minor": 2
}

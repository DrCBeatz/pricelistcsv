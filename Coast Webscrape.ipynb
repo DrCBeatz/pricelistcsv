{
 "cells": [
  {
   "cell_type": "code",
   "execution_count": 90,
   "metadata": {},
   "outputs": [],
   "source": [
    "from selenium import webdriver\n",
    "from selenium.webdriver.common.keys import Keys\n",
    "from selenium.webdriver.support import expected_conditions as EC\n",
    "from selenium.webdriver.common.by import By\n",
    "from selenium.webdriver.support.wait import WebDriverWait\n",
    "\n",
    "import pandas as pd"
   ]
  },
  {
   "cell_type": "code",
   "execution_count": 91,
   "metadata": {},
   "outputs": [],
   "source": [
    "# declare global variables\n",
    "\n",
    "WAIT_TIME = 3 # seconds\n",
    "\n",
    "# default input & output file names\n",
    "input_file = 'coast_products.csv'\n",
    "output_file = 'coast_webscrape_output.csv'\n",
    "url = 'https://coastmusiconline.com'\n",
    "\n",
    "username = ''\n",
    "password = ''"
   ]
  },
  {
   "cell_type": "code",
   "execution_count": 92,
   "metadata": {},
   "outputs": [],
   "source": [
    "# create empty dataframe\n",
    "df = pd.DataFrame(columns=['Product Name', 'Product Vendor', 'Product Model', 'Product List Price', 'Product MAP Price', 'Product Cost', 'Product Description', 'Product Image URL'])\n",
    "\n",
    "product_df = pd.read_csv(input_file)\n",
    "product_list = product_df['SKU'].tolist()"
   ]
  },
  {
   "cell_type": "code",
   "execution_count": 93,
   "metadata": {},
   "outputs": [
    {
     "name": "stdout",
     "output_type": "stream",
     "text": [
      "Scraping data for 6 products:\n",
      "\tTR3356\n",
      "\tW05TX\n",
      "\tG05TX\n",
      "\tEJ16\n",
      "\tTR11B\n",
      "\tPRB-T13\n"
     ]
    }
   ],
   "source": [
    "print(f'Scraping data for {len(product_list)} products:')\n",
    "for product in product_list:\n",
    "    print(f'\\t{product}')"
   ]
  },
  {
   "cell_type": "code",
   "execution_count": 94,
   "metadata": {},
   "outputs": [
    {
     "name": "stdout",
     "output_type": "stream",
     "text": [
      "Opening https://coastmusiconline.com in Chrome browser...\n"
     ]
    }
   ],
   "source": [
    "driver = webdriver.Chrome('./chromedriver')\n",
    "print(f'Opening {url} in Chrome browser...')\n",
    "driver.get(url)\n",
    "products_not_found = 0\n",
    "products_not_found_list = []"
   ]
  },
  {
   "cell_type": "code",
   "execution_count": 95,
   "metadata": {},
   "outputs": [],
   "source": [
    "#click login link\n",
    "login_link = WebDriverWait(driver, WAIT_TIME).until(EC.element_to_be_clickable((By.CSS_SELECTOR, 'a[id=\"loginLink\"]'))).click()\n"
   ]
  },
  {
   "cell_type": "code",
   "execution_count": 96,
   "metadata": {},
   "outputs": [],
   "source": [
    "# enter username\n",
    "username_input = WebDriverWait(driver, WAIT_TIME).until(EC.element_to_be_clickable((By.CSS_SELECTOR, 'input[id=\"Username\"]')))\n",
    "username_input.clear()\n",
    "username_input.send_keys(username)\n"
   ]
  },
  {
   "cell_type": "code",
   "execution_count": 97,
   "metadata": {},
   "outputs": [],
   "source": [
    "# enter password\n",
    "password_input = WebDriverWait(driver, WAIT_TIME).until(EC.element_to_be_clickable((By.CSS_SELECTOR, 'input[id=\"Password\"]')))\n",
    "password_input.clear()\n",
    "password_input.send_keys(password)\n",
    "    "
   ]
  },
  {
   "cell_type": "code",
   "execution_count": 98,
   "metadata": {},
   "outputs": [],
   "source": [
    "# click login button\n",
    "login_button = WebDriverWait(driver, WAIT_TIME).until(EC.element_to_be_clickable((By.CSS_SELECTOR, 'input[value=\"Login\"]'))).click()"
   ]
  },
  {
   "cell_type": "code",
   "execution_count": 99,
   "metadata": {},
   "outputs": [
    {
     "name": "stdout",
     "output_type": "stream",
     "text": [
      "vendor: Grover\n",
      "title: 14\" Snappy Snare, 16 Strand\n",
      "model: TR3356\n",
      "dealer price: 7.25\n",
      "list price: 14.50\n",
      "description: Trophy Snappy Snares™ are made of special quality coiled steel wire. Trenched butt plates provide for better response, chrome plated, individually packaged.\n",
      "img url: https://s3.amazonaws.com/b2b-coastmusic/items/Grover/TR3356/TR3356~lg.jpg\n",
      "------\n",
      "\n",
      "vendor: Profile\n",
      "title: Dreadnought Guitar Bag for Beginners\n",
      "model: W05TX\n",
      "dealer price: 20.50\n",
      "map price: 35.99\n",
      "description: Profile® 05 Series bags offer great value in a classic black design.5mm foam padding• Deluxe Profile® zippers\n",
      "Satin nylon lining\n",
      "Adjustable shoulder straps and padded leatherette carrying handle\n",
      "Dimesional zippered accessory pouch at the headstock with external safety reflector strip\n",
      "Zippered storage front pouches for sheet music or books\n",
      "112.98 x 43.99 x 14.99 cm; 997.9 Grams\n",
      "img url: https://s3.amazonaws.com/b2b-coastmusic/items/Profile/W05TX/W05TX~lg.jpg\n",
      "------\n",
      "\n",
      "vendor: Profile\n",
      "title: Soft Electric Guitar Case for Beginners\n",
      "model: G05TX\n",
      "dealer price: 20.50\n",
      "map price: 35.99\n",
      "description: Quality electric guitar bag, standard size with Profile logo on the front. Available in black.5mm foam padding\n",
      "Deluxe Profile® zippers\n",
      "Satin nylon lining\n",
      "Adjustable shoulder straps and padded leatherette carrying handle\n",
      "Dimesional zippered accessory pouch at the headstock with external safety reflector strip\n",
      "Zippered storage front pouches for sheet music or books\n",
      "111 x 36 x 5 cm\n",
      "img url: https://s3.amazonaws.com/b2b-coastmusic/items/Profile/G05TX/G05TX~lg.jpg\n",
      "------\n",
      "\n",
      "Product EJ16 not found\n",
      "vendor: Grover\n",
      "title: Trophy Maestro Baton Pear 12\"\n",
      "model: TR11B\n",
      "dealer price: 9.75\n",
      "list price: 19.50\n",
      "description: These Grover-Trophy Maestro batons are inexpensive and are perfect for lessons, learning, practice. American Birch with cork handle.\n",
      "img url: https://s3.amazonaws.com/b2b-coastmusic/items/Grover/TR11B/TR11B~lg.jpg\n",
      "------\n",
      "\n",
      "vendor: Profile\n",
      "title: 13” Tom Tom Bag\n",
      "model: PRB-T13\n",
      "dealer price: 42.50\n",
      "list price: 85.00\n",
      "description: Profile PRB-T13 13” Tom Tom Bag fits up to 10\" shell depth. An external zippered pouch allows for transportation of accessories.Removeable padded shoulder carrying strap\n",
      "Leatherette carrying handle\n",
      "Cordura exterior\n",
      "External zippered pouch for accessories\n",
      "Heavy duty Profile® zippers and pulls\n",
      "Silver piping\n",
      "Embroidered logo\n",
      "Country of Origin: China\n",
      "img url: https://s3.amazonaws.com/b2b-coastmusic/items/Profile/PRB-T13/PRB-T13~lg.jpg\n",
      "------\n",
      "\n"
     ]
    }
   ],
   "source": [
    "for product_model in product_list:\n",
    "    # enter product model in search box\n",
    "    search_input = WebDriverWait(driver, WAIT_TIME).until(EC.element_to_be_clickable((By.CSS_SELECTOR, 'input[id=\"searchBox\"]')))\n",
    "    search_input.clear()\n",
    "    search_input.send_keys(product_model)\n",
    "    search_input.send_keys(Keys.RETURN)\n",
    "\n",
    "    # click product link\n",
    "    try:\n",
    "        product_link = WebDriverWait(driver, WAIT_TIME).until(EC.element_to_be_clickable((By.XPATH, f\"//a[contains(@href, '{product_model}')]\"))).click()\n",
    "    except:\n",
    "            print(f'Product {product_model} not found')\n",
    "            products_not_found += 1\n",
    "            products_not_found_list.append(product_model)\n",
    "            continue\n",
    "\n",
    "    product_vendor = WebDriverWait(driver, WAIT_TIME).until(EC.element_to_be_clickable((By.CSS_SELECTOR, \"div[class='catalogTileBrand']\"))).text.strip()\n",
    "    product_title = WebDriverWait(driver, WAIT_TIME).until(EC.element_to_be_clickable((By.CSS_SELECTOR, \"div[id='itemTitle']\"))).text.strip()\n",
    "    product_model = WebDriverWait(driver, WAIT_TIME).until(EC.element_to_be_clickable((By.CSS_SELECTOR, \"div[class='catalogTileID ']\"))).text.split(':')[1].strip()\n",
    "    dealer_price = WebDriverWait(driver, WAIT_TIME).until(EC.element_to_be_clickable((By.CSS_SELECTOR, \"div[id='dealerPrice']\"))).text.split(':')[1].strip().replace('$','')\n",
    "    try:\n",
    "        list_price = WebDriverWait(driver, WAIT_TIME).until(EC.element_to_be_clickable((By.CSS_SELECTOR, \"div[class='productDetailListPrice']\"))).text.split(':')[1].strip().replace('$','')\n",
    "        map_price = ''\n",
    "    except:\n",
    "        list_price = ''\n",
    "        map_price = WebDriverWait(driver, WAIT_TIME).until(EC.element_to_be_clickable((By.CSS_SELECTOR, \"div[class='productDetailMapPrice']\"))).text.split(':')[1].strip().replace('$','')\n",
    "\n",
    "\n",
    "    product_description = WebDriverWait(driver, WAIT_TIME).until(EC.element_to_be_clickable((By.CSS_SELECTOR, \"div[class='prodcutDescriptionLong']\"))).text\n",
    "    try:\n",
    "        product_bullets = WebDriverWait(driver, WAIT_TIME).until(EC.element_to_be_clickable((By.CSS_SELECTOR, \"ul[id='itemBullets']\"))).text\n",
    "    except:\n",
    "        product_bullets = ''\n",
    "    img_url = WebDriverWait(driver, WAIT_TIME).until(EC.element_to_be_clickable((By.CSS_SELECTOR, \"img[id='mainImage']\"))).get_attribute('src')\n",
    "    print(f'vendor: {product_vendor}')\n",
    "    print(f'title: {product_title}')\n",
    "    print(f'model: {product_model}')\n",
    "    print(f'dealer price: {dealer_price}')\n",
    "    if len(map_price) > 0:\n",
    "        print(f'map price: {map_price}')\n",
    "    else:\n",
    "        print(f'list price: {list_price}')\n",
    "    print(f'description: {product_description + product_bullets}')\n",
    "    print(f'img url: {img_url}')\n",
    "    print('------\\n')\n",
    "\n",
    "    # add row to dataframe\n",
    "    row = {'Product Name': product_title, 'Product Vendor': product_vendor, 'Product Model': product_model, 'Product List Price': list_price, 'Product MAP Price': map_price, 'Product Cost': dealer_price, 'Product Description': product_description + product_bullets, 'Product Image URL': img_url}\n",
    "    df_new_row = pd.DataFrame([row])\n",
    "    df = pd.concat([df, df_new_row], axis=0, ignore_index=True)\n",
    "\n"
   ]
  },
  {
   "cell_type": "code",
   "execution_count": 100,
   "metadata": {},
   "outputs": [
    {
     "name": "stdout",
     "output_type": "stream",
     "text": [
      "Results saved to CSV file\n",
      "\n",
      "Results:\n",
      "                              Product Name Product Vendor Product Model  \\\n",
      "0              14\" Snappy Snare, 16 Strand         Grover        TR3356   \n",
      "1     Dreadnought Guitar Bag for Beginners        Profile         W05TX   \n",
      "2  Soft Electric Guitar Case for Beginners        Profile         G05TX   \n",
      "3            Trophy Maestro Baton Pear 12\"         Grover         TR11B   \n",
      "4                          13” Tom Tom Bag        Profile       PRB-T13   \n",
      "\n",
      "  Product List Price Product MAP Price Product Cost  \\\n",
      "0              14.50                           7.25   \n",
      "1                                35.99        20.50   \n",
      "2                                35.99        20.50   \n",
      "3              19.50                           9.75   \n",
      "4              85.00                          42.50   \n",
      "\n",
      "                                 Product Description  \\\n",
      "0  Trophy Snappy Snares™ are made of special qual...   \n",
      "1  Profile® 05 Series bags offer great value in a...   \n",
      "2  Quality electric guitar bag, standard size wit...   \n",
      "3  These Grover-Trophy Maestro batons are inexpen...   \n",
      "4  Profile PRB-T13 13” Tom Tom Bag fits up to 10\"...   \n",
      "\n",
      "                                   Product Image URL  \n",
      "0  https://s3.amazonaws.com/b2b-coastmusic/items/...  \n",
      "1  https://s3.amazonaws.com/b2b-coastmusic/items/...  \n",
      "2  https://s3.amazonaws.com/b2b-coastmusic/items/...  \n",
      "3  https://s3.amazonaws.com/b2b-coastmusic/items/...  \n",
      "4  https://s3.amazonaws.com/b2b-coastmusic/items/...  \n",
      "Number of products found: 5\n",
      "\n",
      "Number of products not found: 1\n",
      "\n",
      "Products not found:\n",
      "\tEJ16\n"
     ]
    }
   ],
   "source": [
    "# save dataframe to CSV file\n",
    "df.to_csv(output_file, index=False)\n",
    "print('Results saved to CSV file\\n')\n",
    "\n",
    "print('Results:')\n",
    "print(df)\n",
    "\n",
    "print(f'Number of products found: {len(df)}\\n')\n",
    "print(f'Number of products not found: {products_not_found}\\n')\n",
    "if products_not_found > 0:\n",
    "    print('Products not found:')\n",
    "    for product in products_not_found_list:\n",
    "        print(f'\\t{product}')\n",
    "\n",
    "# close browser\n",
    "driver.close()\n",
    "driver.quit()"
   ]
  }
 ],
 "metadata": {
  "kernelspec": {
   "display_name": "base",
   "language": "python",
   "name": "python3"
  },
  "language_info": {
   "codemirror_mode": {
    "name": "ipython",
    "version": 3
   },
   "file_extension": ".py",
   "mimetype": "text/x-python",
   "name": "python",
   "nbconvert_exporter": "python",
   "pygments_lexer": "ipython3",
   "version": "3.7.15"
  },
  "orig_nbformat": 4,
  "vscode": {
   "interpreter": {
    "hash": "40d3a090f54c6569ab1632332b64b2c03c39dcf918b08424e98f38b5ae0af88f"
   }
  }
 },
 "nbformat": 4,
 "nbformat_minor": 2
}

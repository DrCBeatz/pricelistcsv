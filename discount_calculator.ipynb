{
 "cells": [
  {
   "cell_type": "code",
   "execution_count": 1,
   "metadata": {},
   "outputs": [],
   "source": [
    "#import discount module\n",
    "\n",
    "from discounts import calculate_discount, apply_discount"
   ]
  },
  {
   "cell_type": "code",
   "execution_count": 2,
   "metadata": {},
   "outputs": [],
   "source": [
    "#declare variables\n",
    "\n",
    "dealer_cost = 67.50\n",
    "retail_price = 96.00"
   ]
  },
  {
   "cell_type": "code",
   "execution_count": 6,
   "metadata": {},
   "outputs": [
    {
     "data": {
      "text/plain": [
       "0.5"
      ]
     },
     "execution_count": 6,
     "metadata": {},
     "output_type": "execute_result"
    }
   ],
   "source": [
    "# get discount\n",
    "\n",
    "discount = calculate_discount(retail_price, dealer_cost)\n",
    "\n",
    "discount"
   ]
  },
  {
   "cell_type": "code",
   "execution_count": 4,
   "metadata": {},
   "outputs": [
    {
     "name": "stdout",
     "output_type": "stream",
     "text": [
      "74.99\n"
     ]
    }
   ],
   "source": [
    "# get final price\n",
    "\n",
    "price = apply_discount(retail_price, discount)"
   ]
  }
 ],
 "metadata": {
  "kernelspec": {
   "display_name": "Python 3",
   "language": "python",
   "name": "python3"
  },
  "language_info": {
   "codemirror_mode": {
    "name": "ipython",
    "version": 3
   },
   "file_extension": ".py",
   "mimetype": "text/x-python",
   "name": "python",
   "nbconvert_exporter": "python",
   "pygments_lexer": "ipython3",
   "version": "3.11.1"
  },
  "orig_nbformat": 4,
  "vscode": {
   "interpreter": {
    "hash": "22483d8b1f965d2452c1b511f44a4bd7e49889fc595967579bd60fcd72e140d1"
   }
  }
 },
 "nbformat": 4,
 "nbformat_minor": 2
}

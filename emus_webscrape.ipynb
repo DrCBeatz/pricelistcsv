{
 "cells": [
  {
   "cell_type": "code",
   "execution_count": 123,
   "metadata": {},
   "outputs": [],
   "source": [
    "from selenium import webdriver\n",
    "from selenium.webdriver.common.keys import Keys\n",
    "from selenium.webdriver.support import expected_conditions as EC\n",
    "from selenium.webdriver.common.by import By\n",
    "from selenium.webdriver.support.wait import WebDriverWait\n",
    "options = webdriver.ChromeOptions()\n",
    "options.add_argument(\"--no-sandbox\")\n",
    "options.add_argument(\"--disable-infobars\")\n",
    "# options.add_argument(\"--headless\")\n",
    "options.add_argument(\"--disable-gpu\")\n",
    "options.add_experimental_option(\"prefs\", { \\\n",
    "    \"profile.default_content_setting_values.media_stream_mic\": 2,     # 1:allow, 2:block \n",
    "    \"profile.default_content_setting_values.media_stream_camera\": 2,  # 1:allow, 2:block \n",
    "    # \"profile.default_content_setting_values.geolocation\": 2,          # 1:allow, 2:block \n",
    "    \"profile.default_content_setting_values.notifications\": 2         # 1:allow, 2:block \n",
    "  })\n",
    "\n",
    "import pandas as pd\n",
    "\n",
    "import time"
   ]
  },
  {
   "cell_type": "code",
   "execution_count": 113,
   "metadata": {},
   "outputs": [],
   "source": [
    "# declare global variables\n",
    "\n",
    "WAIT_TIME = 10 # seconds\n",
    "\n",
    "# default input & output file names\n",
    "# input_file = 'orff_products.csv'\n",
    "output_file = 'orff_output.csv'\n",
    "url = 'https://emusmusic.com/index.php?route=account/login'\n",
    "\n",
    "username = ''\n",
    "password = ''"
   ]
  },
  {
   "cell_type": "code",
   "execution_count": 124,
   "metadata": {},
   "outputs": [],
   "source": [
    "# create empty dataframe\n",
    "df = pd.DataFrame(columns=['Product Model', 'Product Name', 'Product Cost', 'Available'])\n",
    "\n",
    "# product_df = pd.read_csv(input_file)\n",
    "# product_list = product_df['Variant SKU'].tolist()\n",
    "product_list = \"\"\"\n",
    "ESX-16\n",
    "EAX-16\n",
    "EBX-16\n",
    "ESCB-C\n",
    "ECBB-F\n",
    "ECBB-G\n",
    "ESM-16\n",
    "EAM-16\n",
    "EBM-16\n",
    "ESG-16\n",
    "EAG-16\n",
    "TD-42\n",
    "ETB-5\n",
    "E636\n",
    "E690\n",
    "ET-4\n",
    "ET-6\n",
    "ET-8\"\"\"\n",
    "product_list = product_list.split('\\n')"
   ]
  },
  {
   "cell_type": "code",
   "execution_count": 125,
   "metadata": {},
   "outputs": [
    {
     "name": "stdout",
     "output_type": "stream",
     "text": [
      "Scraping data for 19 products:\n",
      "\t\n",
      "\tESX-16\n",
      "\tEAX-16\n",
      "\tEBX-16\n",
      "\tESCB-C\n",
      "\tECBB-F\n",
      "\tECBB-G\n",
      "\tESM-16\n",
      "\tEAM-16\n",
      "\tEBM-16\n",
      "\tESG-16\n",
      "\tEAG-16\n",
      "\tTD-42\n",
      "\tETB-5\n",
      "\tE636\n",
      "\tE690\n",
      "\tET-4\n",
      "\tET-6\n",
      "\tET-8\n"
     ]
    }
   ],
   "source": [
    "print(f'Scraping data for {len(product_list)} products:')\n",
    "for product in product_list:\n",
    "    print(f'\\t{product}')"
   ]
  },
  {
   "cell_type": "code",
   "execution_count": 126,
   "metadata": {},
   "outputs": [
    {
     "name": "stderr",
     "output_type": "stream",
     "text": [
      "C:\\Users\\AYNM\\AppData\\Local\\Temp\\ipykernel_14344\\600678085.py:1: DeprecationWarning: executable_path has been deprecated, please pass in a Service object\n",
      "  driver = webdriver.Chrome('./chromedriver.exe', chrome_options=options)\n",
      "C:\\Users\\AYNM\\AppData\\Local\\Temp\\ipykernel_14344\\600678085.py:1: DeprecationWarning: use options instead of chrome_options\n",
      "  driver = webdriver.Chrome('./chromedriver.exe', chrome_options=options)\n"
     ]
    },
    {
     "name": "stdout",
     "output_type": "stream",
     "text": [
      "Opening https://emusmusic.com/index.php?route=account/login in Chrome browser...\n"
     ]
    }
   ],
   "source": [
    "driver = webdriver.Chrome('./chromedriver.exe', chrome_options=options)\n",
    "print(f'Opening {url} in Chrome browser...')\n",
    "driver.get(url)\n",
    "products_not_found = 0\n",
    "products_not_found_list = []"
   ]
  },
  {
   "cell_type": "code",
   "execution_count": 127,
   "metadata": {},
   "outputs": [],
   "source": [
    "# enter username\n",
    "username_input = WebDriverWait(driver, WAIT_TIME).until(EC.element_to_be_clickable((By.CSS_SELECTOR, 'input[name=\"email\"]')))\n",
    "username_input.clear()\n",
    "username_input.send_keys(username)"
   ]
  },
  {
   "cell_type": "code",
   "execution_count": 128,
   "metadata": {},
   "outputs": [],
   "source": [
    "# enter password\n",
    "password_input = WebDriverWait(driver, WAIT_TIME).until(EC.element_to_be_clickable((By.CSS_SELECTOR, 'input[name=\"password\"]')))\n",
    "password_input.clear()\n",
    "password_input.send_keys(password)"
   ]
  },
  {
   "cell_type": "code",
   "execution_count": 129,
   "metadata": {},
   "outputs": [],
   "source": [
    "# click login button\n",
    "login_button = WebDriverWait(driver, WAIT_TIME).until(EC.element_to_be_clickable((By.CSS_SELECTOR, 'input[value=\"Login\"]'))).click()"
   ]
  },
  {
   "cell_type": "code",
   "execution_count": 79,
   "metadata": {},
   "outputs": [],
   "source": [
    "# enter product model in search box\n",
    "search_input = WebDriverWait(driver, WAIT_TIME).until(EC.element_to_be_clickable((By.CSS_SELECTOR, 'input[name=\"search\"]')))\n",
    "search_input.clear()\n",
    "search_input.send_keys('ESX-16')\n",
    "search_button = WebDriverWait(driver, WAIT_TIME).until(EC.element_to_be_clickable((By.CSS_SELECTOR, 'button[class=\"btn btn-default btn-lg\"]'))).click()\n",
    "\n",
    "# search_input.send_keys(Keys.RETURN)"
   ]
  },
  {
   "cell_type": "code",
   "execution_count": 80,
   "metadata": {},
   "outputs": [],
   "source": [
    "product_name = 'ESX-16'\n",
    "# product_link = WebDriverWait(driver, WAIT_TIME).until(EC.element_to_be_clickable((By.XPATH, f\"//a[contains(@href, '{product_name}')]\"))).click()\n",
    "product_link = WebDriverWait(driver, WAIT_TIME).until(EC.element_to_be_clickable((By.XPATH, f\"//img[contains(@title, '{product_name}')]\"))).click()\n"
   ]
  },
  {
   "cell_type": "code",
   "execution_count": 81,
   "metadata": {},
   "outputs": [
    {
     "name": "stdout",
     "output_type": "stream",
     "text": [
      "398.98\n"
     ]
    }
   ],
   "source": [
    "# driver.implicitly_wait(10) # seconds\n",
    "# driver.get(\"http://somedomain/url_that_delays_loading\")\n",
    "# product_cost = driver.find_elements(By.TAG_NAME, \"H2\")[1].text[1:]\n",
    "product_cost = WebDriverWait(driver, WAIT_TIME).until(EC.element_to_be_clickable((By.XPATH, f\"//h2[contains(text(), '$')]\"))).text[1:]\n",
    "\n",
    "print(product_cost)"
   ]
  },
  {
   "cell_type": "code",
   "execution_count": 83,
   "metadata": {},
   "outputs": [
    {
     "name": "stdout",
     "output_type": "stream",
     "text": [
      "EMUS diatonic soprano xylophone - ESX-16\n"
     ]
    }
   ],
   "source": [
    "# driver.implicitly_wait(10) # seconds\n",
    "# driver.get(\"http://somedomain/url_that_delays_loading\")\n",
    "# product_title = driver.find_element(By.TAG_NAME, \"H1\").text\n",
    "# product_title = WebDriverWait(driver, WAIT_TIME).until(EC.element_to_be_clickable((By.XPATH, f\"//h1[contains(text(), '{product_model}')]\"))).text\n",
    "product_title = WebDriverWait(driver, WAIT_TIME).until(EC.element_to_be_clickable((By.CSS_SELECTOR, 'h1'))).text\n",
    "\n",
    "print(product_title)"
   ]
  },
  {
   "cell_type": "code",
   "execution_count": 45,
   "metadata": {},
   "outputs": [
    {
     "name": "stdout",
     "output_type": "stream",
     "text": [
      " 54\n"
     ]
    }
   ],
   "source": [
    "availability = WebDriverWait(driver, WAIT_TIME).until(EC.element_to_be_clickable((By.XPATH, f\"//li[contains(text(), 'Availability:')]\"))).text.split(':')[1]\n",
    "# driver.implicitly_wait(10) \n",
    "# availability = driver.find_elements_by_xpath(\"//li[contains(text(), 'Availability:')]\").split(':')[1].text\n",
    "print(availability)"
   ]
  },
  {
   "cell_type": "code",
   "execution_count": 97,
   "metadata": {},
   "outputs": [
    {
     "name": "stdout",
     "output_type": "stream",
     "text": [
      "\n",
      "ESX-16\n",
      "EAX-16\n",
      "EBX-16\n",
      "ESCB-C\n",
      "ECBB-F\n",
      "ECBB-G\n",
      "ESM-16\n",
      "EAM-16\n",
      "EBM-16\n",
      "ESG-16\n",
      "EAG-16\n",
      "TD-42\n",
      "ETB-5\n",
      "E636\n",
      "E690\n",
      "ET-4\n",
      "ET-6\n",
      "ET-8\n"
     ]
    }
   ],
   "source": []
  },
  {
   "cell_type": "code",
   "execution_count": 130,
   "metadata": {},
   "outputs": [
    {
     "name": "stdout",
     "output_type": "stream",
     "text": [
      "\n",
      "Search\n",
      "Availability not found for \n",
      "Can't get product cost for \n",
      "ESX-16\n",
      "EMUS diatonic soprano xylophone - ESX-16\n",
      " 54\n",
      "398.98\n",
      "EAX-16\n",
      "EMUS diatonic alto xylophone - EAX-16\n",
      " 35\n",
      "448.98\n",
      "EBX-16\n",
      "EMUS diatonic bass xylophone - EBX-16\n",
      " 9\n",
      "598.98\n",
      "ESCB-C\n",
      "EMUS Sub contra bass bar C note - ESCB-C\n",
      " 3\n",
      "241.50\n",
      "ECBB-F\n",
      "EMUS Contra bass bar F note - ECBB-F\n",
      " 2\n",
      "223.50\n",
      "ECBB-G\n",
      "EMUS Contra bass bar G note - ECBB-G\n",
      " 1\n",
      "223.50\n",
      "ESM-16\n",
      "EMUS diatonic soprano metallophone - ESM-16\n",
      " 20\n",
      "230.30\n",
      "EAM-16\n",
      "EMUS diatonic alto metallophone - EAM-16\n",
      " 6\n",
      "337.49\n",
      "EBM-16\n",
      "EMUS diatonic bass metallophone - EBM-16\n",
      " 9\n",
      "562.98\n",
      "ESG-16\n",
      "EMUS diatonic Soprano Glockenspiel - ESG-16\n",
      " 80\n",
      "66.50\n",
      "EAG-16\n",
      "EMUS diatonic Alto Glockenspiel - EAG-16\n",
      " 24\n",
      "73.50\n",
      "TD-42\n",
      "Product TD-42 not found\n",
      "ETB-5\n",
      "EMUS temple blocks - ETB-5\n",
      " Out Of Stock\n",
      "172.00\n",
      "E636\n",
      "EMUS 25 cm tunable tambourine, 9pr. jingles - E636\n",
      " 16\n",
      "19.50\n",
      "E690\n",
      "EMUS 10\" Tunable Hand Drum - E690\n",
      " 70\n",
      "23.91\n",
      "ET-4\n",
      "Emus 4\" Triangle, ET-4\n",
      " 27\n",
      "10.38\n",
      "ET-6\n",
      "Emus 6'' Triangle - ET-6\n",
      " 48\n",
      "12.78\n",
      "ET-8\n",
      "Emus 8\" Triangle - ET-8\n",
      " 44\n",
      "15.18\n"
     ]
    }
   ],
   "source": [
    "for product_model in product_list:\n",
    "    # enter product model in search box\n",
    "    search_input = WebDriverWait(driver, WAIT_TIME).until(EC.element_to_be_clickable((By.CSS_SELECTOR, 'input[name=\"search\"]')))\n",
    "    search_input.clear()\n",
    "    search_input.send_keys(product_model)\n",
    "    search_button = WebDriverWait(driver, WAIT_TIME).until(EC.element_to_be_clickable((By.CSS_SELECTOR, 'button[class=\"btn btn-default btn-lg\"]'))).click()\n",
    "\n",
    "    print(product_model)\n",
    "    # click product link\n",
    "    try:\n",
    "        product_link = WebDriverWait(driver, WAIT_TIME).until(EC.element_to_be_clickable((By.XPATH, f\"//img[contains(@title, '{product_model.strip()}')]\"))).click()\n",
    "\n",
    "    except:\n",
    "            print(f'Product {product_model} not found')\n",
    "            products_not_found += 1\n",
    "            products_not_found_list.append(product_model)\n",
    "            continue\n",
    "    # # time.sleep(10)\n",
    "\n",
    "\n",
    "    product_title = WebDriverWait(driver, WAIT_TIME).until(EC.element_to_be_clickable((By.CSS_SELECTOR, 'h1'))).text\n",
    "    print(product_title)\n",
    "\n",
    "    try:\n",
    "        availability = WebDriverWait(driver, WAIT_TIME).until(EC.element_to_be_clickable((By.XPATH, f\"//li[contains(text(), 'Availability:')]\"))).text.split(':')[1]\n",
    "        print(availability)\n",
    "    except:\n",
    "         print(f'Availability not found for {product_model}')\n",
    "         availability = ''\n",
    "\n",
    "    try:\n",
    "        product_cost = WebDriverWait(driver, WAIT_TIME).until(EC.element_to_be_clickable((By.XPATH, f\"//h2[contains(text(), '$')]\"))).text[1:]\n",
    "        print(product_cost)\n",
    "    except:\n",
    "        print(f\"Can't get product cost for {product_model}\")\n",
    "        product_cost = 0\n",
    "\n",
    "    # add row to dataframe\n",
    "    row = {'Product Name': product_title, 'Product Model': product_model,'Product Cost': product_cost, 'Availability': availability }\n",
    "    df_new_row = pd.DataFrame([row])\n",
    "    df = pd.concat([df, df_new_row], axis=0, ignore_index=True)"
   ]
  },
  {
   "cell_type": "code",
   "execution_count": 131,
   "metadata": {},
   "outputs": [
    {
     "name": "stdout",
     "output_type": "stream",
     "text": [
      "Results saved to CSV file\n",
      "\n",
      "Results:\n",
      "   Product Model                                       Product Name  \\\n",
      "0                                                            Search   \n",
      "1         ESX-16           EMUS diatonic soprano xylophone - ESX-16   \n",
      "2         EAX-16              EMUS diatonic alto xylophone - EAX-16   \n",
      "3         EBX-16              EMUS diatonic bass xylophone - EBX-16   \n",
      "4         ESCB-C           EMUS Sub contra bass bar C note - ESCB-C   \n",
      "5         ECBB-F               EMUS Contra bass bar F note - ECBB-F   \n",
      "6         ECBB-G               EMUS Contra bass bar G note - ECBB-G   \n",
      "7         ESM-16        EMUS diatonic soprano metallophone - ESM-16   \n",
      "8         EAM-16           EMUS diatonic alto metallophone - EAM-16   \n",
      "9         EBM-16           EMUS diatonic bass metallophone - EBM-16   \n",
      "10        ESG-16        EMUS diatonic Soprano Glockenspiel - ESG-16   \n",
      "11        EAG-16           EMUS diatonic Alto Glockenspiel - EAG-16   \n",
      "12         ETB-5                         EMUS temple blocks - ETB-5   \n",
      "13          E636  EMUS 25 cm tunable tambourine, 9pr. jingles - ...   \n",
      "14          E690                  EMUS 10\" Tunable Hand Drum - E690   \n",
      "15          ET-4                             Emus 4\" Triangle, ET-4   \n",
      "16          ET-6                           Emus 6'' Triangle - ET-6   \n",
      "17          ET-8                            Emus 8\" Triangle - ET-8   \n",
      "\n",
      "   Product Cost Available   Availability  \n",
      "0             0       NaN                 \n",
      "1        398.98       NaN             54  \n",
      "2        448.98       NaN             35  \n",
      "3        598.98       NaN              9  \n",
      "4        241.50       NaN              3  \n",
      "5        223.50       NaN              2  \n",
      "6        223.50       NaN              1  \n",
      "7        230.30       NaN             20  \n",
      "8        337.49       NaN              6  \n",
      "9        562.98       NaN              9  \n",
      "10        66.50       NaN             80  \n",
      "11        73.50       NaN             24  \n",
      "12       172.00       NaN   Out Of Stock  \n",
      "13        19.50       NaN             16  \n",
      "14        23.91       NaN             70  \n",
      "15        10.38       NaN             27  \n",
      "16        12.78       NaN             48  \n",
      "17        15.18       NaN             44  \n",
      "Number of products found: 18\n",
      "\n",
      "Number of products not found: 1\n",
      "\n",
      "Products not found:\n",
      "\tTD-42\n"
     ]
    }
   ],
   "source": [
    "# save dataframe to CSV file\n",
    "df.to_csv(output_file, index=False)\n",
    "print('Results saved to CSV file\\n')\n",
    "\n",
    "print('Results:')\n",
    "print(df)\n",
    "\n",
    "print(f'Number of products found: {len(df)}\\n')\n",
    "print(f'Number of products not found: {products_not_found}\\n')\n",
    "if products_not_found > 0:\n",
    "    print('Products not found:')\n",
    "    for product in products_not_found_list:\n",
    "        print(f'\\t{product}')\n",
    "\n",
    "# close browser\n",
    "driver.close()\n",
    "driver.quit()"
   ]
  },
  {
   "cell_type": "code",
   "execution_count": null,
   "metadata": {},
   "outputs": [],
   "source": []
  }
 ],
 "metadata": {
  "kernelspec": {
   "display_name": "base",
   "language": "python",
   "name": "python3"
  },
  "language_info": {
   "codemirror_mode": {
    "name": "ipython",
    "version": 3
   },
   "file_extension": ".py",
   "mimetype": "text/x-python",
   "name": "python",
   "nbconvert_exporter": "python",
   "pygments_lexer": "ipython3",
   "version": "3.7.15"
  },
  "orig_nbformat": 4,
  "vscode": {
   "interpreter": {
    "hash": "40d3a090f54c6569ab1632332b64b2c03c39dcf918b08424e98f38b5ae0af88f"
   }
  }
 },
 "nbformat": 4,
 "nbformat_minor": 2
}

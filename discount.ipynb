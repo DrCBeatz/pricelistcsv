{
 "cells": [
  {
   "cell_type": "code",
   "execution_count": 52,
   "metadata": {},
   "outputs": [],
   "source": [
    "import math\n",
    "import pandas as pd\n",
    "\n",
    "DISCOUNT = 0.5\n",
    "input_file = 'coast_webscrape_output.csv'\n",
    "output_file = 'coast_webscrape_output_discounted.csv'\n",
    "\n",
    "def ceil(x, s):\n",
    "    return s * math.ceil(x/s)\n",
    "\n",
    "def apply_discount(price, discount):\n",
    "    cost = price * discount\n",
    "    if price < 20:\n",
    "        result = price\n",
    "    elif price >= 20 and price < 50:\n",
    "        result = ceil(cost / 0.68, 10) - 0.01\n",
    "    elif price >= 50 and price < 100:\n",
    "        result = ceil(cost / 0.68, 5) - 0.01\n",
    "        print(result)\n",
    "    elif price >= 100:\n",
    "        result = ceil(cost / 0.68, 10) - 0.01\n",
    "    else: result = price\n",
    "    return result"
   ]
  },
  {
   "cell_type": "code",
   "execution_count": 53,
   "metadata": {},
   "outputs": [
    {
     "data": {
      "text/html": [
       "<div>\n",
       "<style scoped>\n",
       "    .dataframe tbody tr th:only-of-type {\n",
       "        vertical-align: middle;\n",
       "    }\n",
       "\n",
       "    .dataframe tbody tr th {\n",
       "        vertical-align: top;\n",
       "    }\n",
       "\n",
       "    .dataframe thead th {\n",
       "        text-align: right;\n",
       "    }\n",
       "</style>\n",
       "<table border=\"1\" class=\"dataframe\">\n",
       "  <thead>\n",
       "    <tr style=\"text-align: right;\">\n",
       "      <th></th>\n",
       "      <th>Product Name</th>\n",
       "      <th>Product Vendor</th>\n",
       "      <th>Product Model</th>\n",
       "      <th>Product List Price</th>\n",
       "      <th>Product MAP Price</th>\n",
       "      <th>Product Cost</th>\n",
       "      <th>Product Description</th>\n",
       "      <th>Product Image URL</th>\n",
       "    </tr>\n",
       "  </thead>\n",
       "  <tbody>\n",
       "    <tr>\n",
       "      <th>0</th>\n",
       "      <td>14\" Snappy Snare, 16 Strand</td>\n",
       "      <td>Grover</td>\n",
       "      <td>TR3356</td>\n",
       "      <td>14.5</td>\n",
       "      <td>NaN</td>\n",
       "      <td>7.25</td>\n",
       "      <td>Trophy Snappy Snares™ are made of special qual...</td>\n",
       "      <td>https://s3.amazonaws.com/b2b-coastmusic/items/...</td>\n",
       "    </tr>\n",
       "    <tr>\n",
       "      <th>1</th>\n",
       "      <td>Dreadnought Guitar Bag for Beginners</td>\n",
       "      <td>Profile</td>\n",
       "      <td>W05TX</td>\n",
       "      <td>NaN</td>\n",
       "      <td>35.99</td>\n",
       "      <td>20.50</td>\n",
       "      <td>Profile® 05 Series bags offer great value in a...</td>\n",
       "      <td>https://s3.amazonaws.com/b2b-coastmusic/items/...</td>\n",
       "    </tr>\n",
       "    <tr>\n",
       "      <th>2</th>\n",
       "      <td>Soft Electric Guitar Case for Beginners</td>\n",
       "      <td>Profile</td>\n",
       "      <td>G05TX</td>\n",
       "      <td>NaN</td>\n",
       "      <td>35.99</td>\n",
       "      <td>20.50</td>\n",
       "      <td>Quality electric guitar bag, standard size wit...</td>\n",
       "      <td>https://s3.amazonaws.com/b2b-coastmusic/items/...</td>\n",
       "    </tr>\n",
       "    <tr>\n",
       "      <th>3</th>\n",
       "      <td>Trophy Maestro Baton Pear 12\"</td>\n",
       "      <td>Grover</td>\n",
       "      <td>TR11B</td>\n",
       "      <td>19.5</td>\n",
       "      <td>NaN</td>\n",
       "      <td>9.75</td>\n",
       "      <td>These Grover-Trophy Maestro batons are inexpen...</td>\n",
       "      <td>https://s3.amazonaws.com/b2b-coastmusic/items/...</td>\n",
       "    </tr>\n",
       "    <tr>\n",
       "      <th>4</th>\n",
       "      <td>13” Tom Tom Bag</td>\n",
       "      <td>Profile</td>\n",
       "      <td>PRB-T13</td>\n",
       "      <td>85.0</td>\n",
       "      <td>NaN</td>\n",
       "      <td>42.50</td>\n",
       "      <td>Profile PRB-T13 13” Tom Tom Bag fits up to 10\"...</td>\n",
       "      <td>https://s3.amazonaws.com/b2b-coastmusic/items/...</td>\n",
       "    </tr>\n",
       "  </tbody>\n",
       "</table>\n",
       "</div>"
      ],
      "text/plain": [
       "                              Product Name Product Vendor Product Model  \\\n",
       "0              14\" Snappy Snare, 16 Strand         Grover        TR3356   \n",
       "1     Dreadnought Guitar Bag for Beginners        Profile         W05TX   \n",
       "2  Soft Electric Guitar Case for Beginners        Profile         G05TX   \n",
       "3            Trophy Maestro Baton Pear 12\"         Grover         TR11B   \n",
       "4                          13” Tom Tom Bag        Profile       PRB-T13   \n",
       "\n",
       "   Product List Price  Product MAP Price  Product Cost  \\\n",
       "0                14.5                NaN          7.25   \n",
       "1                 NaN              35.99         20.50   \n",
       "2                 NaN              35.99         20.50   \n",
       "3                19.5                NaN          9.75   \n",
       "4                85.0                NaN         42.50   \n",
       "\n",
       "                                 Product Description  \\\n",
       "0  Trophy Snappy Snares™ are made of special qual...   \n",
       "1  Profile® 05 Series bags offer great value in a...   \n",
       "2  Quality electric guitar bag, standard size wit...   \n",
       "3  These Grover-Trophy Maestro batons are inexpen...   \n",
       "4  Profile PRB-T13 13” Tom Tom Bag fits up to 10\"...   \n",
       "\n",
       "                                   Product Image URL  \n",
       "0  https://s3.amazonaws.com/b2b-coastmusic/items/...  \n",
       "1  https://s3.amazonaws.com/b2b-coastmusic/items/...  \n",
       "2  https://s3.amazonaws.com/b2b-coastmusic/items/...  \n",
       "3  https://s3.amazonaws.com/b2b-coastmusic/items/...  \n",
       "4  https://s3.amazonaws.com/b2b-coastmusic/items/...  "
      ]
     },
     "execution_count": 53,
     "metadata": {},
     "output_type": "execute_result"
    }
   ],
   "source": [
    "df = pd.read_csv(input_file)\n",
    "df.head()"
   ]
  },
  {
   "cell_type": "code",
   "execution_count": 54,
   "metadata": {},
   "outputs": [
    {
     "name": "stdout",
     "output_type": "stream",
     "text": [
      "64.99\n"
     ]
    },
    {
     "data": {
      "text/plain": [
       "0    14.50\n",
       "1    35.99\n",
       "2    35.99\n",
       "3    19.50\n",
       "4    64.99\n",
       "Name: Price, dtype: float64"
      ]
     },
     "execution_count": 54,
     "metadata": {},
     "output_type": "execute_result"
    }
   ],
   "source": [
    "for index, row in df.iterrows():\n",
    "    if math.isnan(row['Product List Price']) == False:\n",
    "        df.loc[index, ['Price']] = apply_discount(float(row['Product List Price']), DISCOUNT)\n",
    "    else:\n",
    "        df.loc[index, ['Price']] = row['Product MAP Price']\n",
    "\n",
    "df['Price']"
   ]
  },
  {
   "cell_type": "code",
   "execution_count": 55,
   "metadata": {},
   "outputs": [],
   "source": [
    "df.to_csv(output_file, index=False)"
   ]
  }
 ],
 "metadata": {
  "kernelspec": {
   "display_name": "base",
   "language": "python",
   "name": "python3"
  },
  "language_info": {
   "codemirror_mode": {
    "name": "ipython",
    "version": 3
   },
   "file_extension": ".py",
   "mimetype": "text/x-python",
   "name": "python",
   "nbconvert_exporter": "python",
   "pygments_lexer": "ipython3",
   "version": "3.7.15"
  },
  "orig_nbformat": 4,
  "vscode": {
   "interpreter": {
    "hash": "40d3a090f54c6569ab1632332b64b2c03c39dcf918b08424e98f38b5ae0af88f"
   }
  }
 },
 "nbformat": 4,
 "nbformat_minor": 2
}

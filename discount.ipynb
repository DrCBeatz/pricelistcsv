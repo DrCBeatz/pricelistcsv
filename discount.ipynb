{
 "cells": [
  {
   "cell_type": "code",
   "execution_count": 6,
   "metadata": {},
   "outputs": [],
   "source": [
    "from math import isnan\n",
    "import pandas as pd\n",
    "from discounts import calculate_discount, apply_discount\n",
    "\n",
    "input_file = 'rhythm_tech_output.csv'\n",
    "output_file = 'rhythm_tech_output_discounted.csv'"
   ]
  },
  {
   "cell_type": "code",
   "execution_count": 7,
   "metadata": {},
   "outputs": [
    {
     "data": {
      "text/html": [
       "<div>\n",
       "<style scoped>\n",
       "    .dataframe tbody tr th:only-of-type {\n",
       "        vertical-align: middle;\n",
       "    }\n",
       "\n",
       "    .dataframe tbody tr th {\n",
       "        vertical-align: top;\n",
       "    }\n",
       "\n",
       "    .dataframe thead th {\n",
       "        text-align: right;\n",
       "    }\n",
       "</style>\n",
       "<table border=\"1\" class=\"dataframe\">\n",
       "  <thead>\n",
       "    <tr style=\"text-align: right;\">\n",
       "      <th></th>\n",
       "      <th>Product Name</th>\n",
       "      <th>Product Vendor</th>\n",
       "      <th>Product Model</th>\n",
       "      <th>Product List Price</th>\n",
       "      <th>Product MAP Price</th>\n",
       "      <th>Product Cost</th>\n",
       "      <th>Product Description</th>\n",
       "      <th>Product Image URL</th>\n",
       "    </tr>\n",
       "  </thead>\n",
       "  <tbody>\n",
       "    <tr>\n",
       "      <th>0</th>\n",
       "      <td>Archtop A-style Mandolin Case Pear Shaped With...</td>\n",
       "      <td>Boblen</td>\n",
       "      <td>MC2</td>\n",
       "      <td>164.00</td>\n",
       "      <td>NaN</td>\n",
       "      <td>88.56</td>\n",
       "      <td>Made in Canada, Sturdy and Solid. Boblen MC221...</td>\n",
       "      <td>https://s3.amazonaws.com/b2b-coastmusic/items/...</td>\n",
       "    </tr>\n",
       "    <tr>\n",
       "      <th>1</th>\n",
       "      <td>Fiberglass Maracas - Large - Black</td>\n",
       "      <td>Rhythm Tech</td>\n",
       "      <td>TCFML</td>\n",
       "      <td>26.75</td>\n",
       "      <td>NaN</td>\n",
       "      <td>10.70</td>\n",
       "      <td>Our Fiber Maracas come in two sizes and they e...</td>\n",
       "      <td>https://s3.amazonaws.com/b2b-coastmusic/items/...</td>\n",
       "    </tr>\n",
       "  </tbody>\n",
       "</table>\n",
       "</div>"
      ],
      "text/plain": [
       "                                        Product Name Product Vendor  \\\n",
       "0  Archtop A-style Mandolin Case Pear Shaped With...         Boblen   \n",
       "1                 Fiberglass Maracas - Large - Black    Rhythm Tech   \n",
       "\n",
       "  Product Model  Product List Price  Product MAP Price  Product Cost  \\\n",
       "0           MC2              164.00                NaN         88.56   \n",
       "1         TCFML               26.75                NaN         10.70   \n",
       "\n",
       "                                 Product Description  \\\n",
       "0  Made in Canada, Sturdy and Solid. Boblen MC221...   \n",
       "1  Our Fiber Maracas come in two sizes and they e...   \n",
       "\n",
       "                                   Product Image URL  \n",
       "0  https://s3.amazonaws.com/b2b-coastmusic/items/...  \n",
       "1  https://s3.amazonaws.com/b2b-coastmusic/items/...  "
      ]
     },
     "execution_count": 7,
     "metadata": {},
     "output_type": "execute_result"
    }
   ],
   "source": [
    "df = pd.read_csv(input_file)\n",
    "df.head()"
   ]
  },
  {
   "cell_type": "code",
   "execution_count": 8,
   "metadata": {},
   "outputs": [
    {
     "data": {
      "text/plain": [
       "0    139.99\n",
       "1     19.99\n",
       "Name: Price, dtype: float64"
      ]
     },
     "execution_count": 8,
     "metadata": {},
     "output_type": "execute_result"
    }
   ],
   "source": [
    "for index, row in df.iterrows():\n",
    "    if isnan(row['Product List Price']) == False:\n",
    "        df.loc[index, ['Price']] = apply_discount(float(row['Product List Price']), calculate_discount(float(row['Product List Price']), float(row['Product Cost'])))\n",
    "    else:\n",
    "        df.loc[index, ['Price']] = row['Product MAP Price']\n",
    "\n",
    "df['Price']"
   ]
  },
  {
   "cell_type": "code",
   "execution_count": 9,
   "metadata": {},
   "outputs": [],
   "source": [
    "df.to_csv(output_file, index=False)"
   ]
  }
 ],
 "metadata": {
  "kernelspec": {
   "display_name": "Python 3",
   "language": "python",
   "name": "python3"
  },
  "language_info": {
   "codemirror_mode": {
    "name": "ipython",
    "version": 3
   },
   "file_extension": ".py",
   "mimetype": "text/x-python",
   "name": "python",
   "nbconvert_exporter": "python",
   "pygments_lexer": "ipython3",
   "version": "3.11.1"
  },
  "orig_nbformat": 4,
  "vscode": {
   "interpreter": {
    "hash": "22483d8b1f965d2452c1b511f44a4bd7e49889fc595967579bd60fcd72e140d1"
   }
  }
 },
 "nbformat": 4,
 "nbformat_minor": 2
}

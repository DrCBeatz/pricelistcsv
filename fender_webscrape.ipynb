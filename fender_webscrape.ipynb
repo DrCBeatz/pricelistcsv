{
 "cells": [
  {
   "cell_type": "code",
   "execution_count": 64,
   "metadata": {},
   "outputs": [],
   "source": [
    "from selenium import webdriver\n",
    "from selenium.webdriver.common.keys import Keys\n",
    "from selenium.webdriver.support import expected_conditions as EC\n",
    "from selenium.webdriver.common.by import By\n",
    "from selenium.webdriver.support.wait import WebDriverWait\n",
    "options = webdriver.ChromeOptions()\n",
    "options.add_argument(\"--no-sandbox\")\n",
    "options.add_argument(\"--disable-infobars\")\n",
    "# options.add_argument(\"--headless\")\n",
    "options.add_argument(\"--disable-gpu\")\n",
    "options.add_experimental_option(\"prefs\", { \\\n",
    "    \"profile.default_content_setting_values.media_stream_mic\": 2,     # 1:allow, 2:block \n",
    "    \"profile.default_content_setting_values.media_stream_camera\": 2,  # 1:allow, 2:block \n",
    "    \"profile.default_content_setting_values.geolocation\": 2,          # 1:allow, 2:block \n",
    "    \"profile.default_content_setting_values.notifications\": 2         # 1:allow, 2:block \n",
    "  })\n",
    "\n",
    "import pandas as pd\n",
    "import re"
   ]
  },
  {
   "cell_type": "code",
   "execution_count": 65,
   "metadata": {},
   "outputs": [],
   "source": [
    "# declare global variables\n",
    "\n",
    "WAIT_TIME = 5 # seconds\n",
    "\n",
    "# default input & output file names\n",
    "input_file = 'fender_bass_products.csv'\n",
    "output_file = 'fender_bass_output.csv'\n",
    "\n",
    "url = 'https://dealer.fender.com/login'\n",
    "username = ''\n",
    "password = ''"
   ]
  },
  {
   "cell_type": "code",
   "execution_count": 66,
   "metadata": {},
   "outputs": [],
   "source": [
    "# create empty dataframe\n",
    "df = pd.DataFrame(columns=['Product Name', 'Product Model', 'Product List Price', 'Product MAP Price', 'Product Cost', 'Product Description', 'Product Image URL'])\n",
    "\n",
    "product_df = pd.read_csv(input_file)\n",
    "product_df['Variant SKU'] = product_df['Variant SKU'].astype(str).apply(lambda x: re.sub( r'\\.0$', '', x) )\n",
    "product_list = product_df['Variant SKU'].tolist()"
   ]
  },
  {
   "cell_type": "code",
   "execution_count": 67,
   "metadata": {},
   "outputs": [
    {
     "name": "stdout",
     "output_type": "stream",
     "text": [
      "Scraping data for 42 products:\n",
      "\t190130800\n",
      "\t0190130809\n",
      "\t0190130872\n",
      "\t190142800\n",
      "\t0190142821\n",
      "\t0190142841\n",
      "\t193992763\n",
      "\t0193992718\n",
      "\t0193990705\n",
      "\t0193990700\n",
      "\t0193970700\n",
      "\t0193970705\n",
      "\t0193970755\n",
      "\t0193970706\n",
      "\t0193972761\n",
      "\t0193972705\n",
      "\t0193972718\n",
      "\t0193972700\n",
      "\t0193972763\n",
      "\t0193970719\n",
      "\t0190120802\n",
      "\t0190120857\n",
      "\t0190120800\n",
      "\t0198620380\n",
      "\t0198620357\n",
      "\t0198620345\n",
      "\t0198620300\n",
      "\t0198610380*\n",
      "\t0198612357*\n",
      "\t0198610300*\n",
      "\t0194000761\n",
      "\t0194000700\n",
      "\t0194000705\n",
      "\t0193932719\n",
      "\t0193932705\n",
      "\t0193932700\n",
      "\t0193932706\n",
      "\t0193930755\n",
      "\t0193930718\n",
      "\t0193930761\n",
      "\t0193930705\n",
      "\t0193930700\n"
     ]
    }
   ],
   "source": [
    "print(f'Scraping data for {len(product_list)} products:')\n",
    "for product in product_list:\n",
    "    print(f'\\t{product}')"
   ]
  },
  {
   "cell_type": "code",
   "execution_count": 68,
   "metadata": {},
   "outputs": [
    {
     "name": "stderr",
     "output_type": "stream",
     "text": [
      "C:\\Users\\AYNM\\AppData\\Local\\Temp\\ipykernel_17712\\600678085.py:1: DeprecationWarning: executable_path has been deprecated, please pass in a Service object\n",
      "  driver = webdriver.Chrome('./chromedriver.exe', chrome_options=options)\n",
      "C:\\Users\\AYNM\\AppData\\Local\\Temp\\ipykernel_17712\\600678085.py:1: DeprecationWarning: use options instead of chrome_options\n",
      "  driver = webdriver.Chrome('./chromedriver.exe', chrome_options=options)\n"
     ]
    },
    {
     "name": "stdout",
     "output_type": "stream",
     "text": [
      "Opening https://dealer.fender.com/login in Chrome browser...\n"
     ]
    }
   ],
   "source": [
    "driver = webdriver.Chrome('./chromedriver.exe', chrome_options=options)\n",
    "print(f'Opening {url} in Chrome browser...')\n",
    "driver.get(url)\n",
    "products_not_found = 0\n",
    "products_not_found_list = []"
   ]
  },
  {
   "cell_type": "code",
   "execution_count": 69,
   "metadata": {},
   "outputs": [],
   "source": [
    "# login\n",
    "email_input = WebDriverWait(driver, 10).until(EC.element_to_be_clickable((By.CSS_SELECTOR, 'input[id=\"emailInput\"]')))\n",
    "email_input.clear()\n",
    "email_input.send_keys(username)\n",
    "\n",
    "password_input = WebDriverWait(driver, 10).until(EC.element_to_be_clickable((By.CSS_SELECTOR, 'input[id=\"passwordInput\"]')))    \n",
    "password_input.clear()\n",
    "password_input.send_keys(password)\n",
    "\n",
    "login_button = WebDriverWait(driver, 10).until(EC.element_to_be_clickable((By.CSS_SELECTOR, 'button[id=\"submitLoginButton\"]'))).click()"
   ]
  },
  {
   "cell_type": "code",
   "execution_count": 70,
   "metadata": {},
   "outputs": [
    {
     "name": "stdout",
     "output_type": "stream",
     "text": [
      "Product Name: AMERICAN ORIGINAL '60S JAZZ BASS®\n",
      "Product Model: 0190130800\n",
      "Dealer Cost: \n",
      "Product Price: \n",
      "UPC: 885978821068\n",
      "https://www.fmicassets.com/Damroot/Med/10001/0190130800_gtr_frt_001_rr.png\n",
      "Product Description: Released in 1960, the upscale Jazz Bass quickly found favor among working bassists thanks to its premium appointments and versatile sound. The narrower neck seemed tailor-made for fast, dexterous playing, while the pair of single-coil pickups added a bold new dimension to Fender bass tone. The American Original ‘60s Jazz Bass has all the tone and style of its earliest incarnation, with modern playability.\n"
     ]
    },
    {
     "name": "stderr",
     "output_type": "stream",
     "text": [
      "C:\\Users\\AYNM\\AppData\\Local\\Temp\\ipykernel_17712\\909244397.py:54: FutureWarning: The frame.append method is deprecated and will be removed from pandas in a future version. Use pandas.concat instead.\n",
      "  df = df.append({'Product Name': product_name.text, 'Product Model': model_no, 'Product MAP Price': map_price, 'Product Cost': dealer_cost, 'UPC': upc, 'Product Description': description, 'Product Image URL': image_url}, ignore_index=True)\n"
     ]
    },
    {
     "name": "stdout",
     "output_type": "stream",
     "text": [
      "Product Name: AMERICAN ORIGINAL '60S JAZZ BASS®\n",
      "Product Model: 0190130809\n",
      "Dealer Cost: \n",
      "Product Price: 2,749.99\n",
      "UPC: 885978841141\n",
      "https://www.fmicassets.com/Damroot/Med/10001/0190130809_gtr_frt_001_rr.png\n",
      "Product Description: Released in 1960, the upscale Jazz Bass quickly found favor among working bassists thanks to its premium appointments and versatile sound. The narrower neck seemed tailor-made for fast, dexterous playing, while the pair of single-coil pickups added a bold new dimension to Fender bass tone. The American Original ‘60s Jazz Bass has all the tone and style of its earliest incarnation, with modern playability.\n"
     ]
    },
    {
     "name": "stderr",
     "output_type": "stream",
     "text": [
      "C:\\Users\\AYNM\\AppData\\Local\\Temp\\ipykernel_17712\\909244397.py:54: FutureWarning: The frame.append method is deprecated and will be removed from pandas in a future version. Use pandas.concat instead.\n",
      "  df = df.append({'Product Name': product_name.text, 'Product Model': model_no, 'Product MAP Price': map_price, 'Product Cost': dealer_cost, 'UPC': upc, 'Product Description': description, 'Product Image URL': image_url}, ignore_index=True)\n"
     ]
    },
    {
     "name": "stdout",
     "output_type": "stream",
     "text": [
      "Product Name: AMERICAN ORIGINAL '60S JAZZ BASS®\n",
      "Product Model: 0190130872\n",
      "Dealer Cost: \n",
      "Product Price: 2,749.99\n",
      "UPC: 885978290932\n",
      "https://www.fmicassets.com/Damroot/Med/10001/0190130872_gtr_frt_001_rr.png\n",
      "Product Description: Released in 1960, the upscale Jazz Bass quickly found favor among working bassists thanks to its premium appointments and versatile sound. The narrower neck seemed tailor-made for fast, dexterous playing, while the pair of single-coil pickups added a bold new dimension to Fender bass tone. The American Original ‘60s Jazz Bass has all the tone and style of its earliest incarnation, with modern playability.\n"
     ]
    },
    {
     "name": "stderr",
     "output_type": "stream",
     "text": [
      "C:\\Users\\AYNM\\AppData\\Local\\Temp\\ipykernel_17712\\909244397.py:54: FutureWarning: The frame.append method is deprecated and will be removed from pandas in a future version. Use pandas.concat instead.\n",
      "  df = df.append({'Product Name': product_name.text, 'Product Model': model_no, 'Product MAP Price': map_price, 'Product Cost': dealer_cost, 'UPC': upc, 'Product Description': description, 'Product Image URL': image_url}, ignore_index=True)\n"
     ]
    },
    {
     "name": "stdout",
     "output_type": "stream",
     "text": [
      "Product Name: AMERICAN ORIGINAL '70S JAZZ BASS®\n",
      "Product Model: 0190142800\n",
      "Dealer Cost: \n",
      "Product Price: \n",
      "UPC: 885978821594\n",
      "https://www.fmicassets.com/Damroot/Med/10001/0190142800_gtr_frt_001_rr.png\n",
      "Product Description: Over the course of the ‘70s, the Jazz Bass entered its “teenage years,” changing its visual style and inspiring new playing techniques—such as slapping—which led directly to new, creative forms of expression. Its smooth feel and growly midrange, tempered with a bit of treble bite, made it a hero in recording sessions around the globe. The American Original ‘70s Jazz Bass updates the smooth playing feel with a modern-radius fingerboard, while retaining the classic Fender tone and style that made the Jazz Bass the tool of choice for creative bassists.\n"
     ]
    },
    {
     "name": "stderr",
     "output_type": "stream",
     "text": [
      "C:\\Users\\AYNM\\AppData\\Local\\Temp\\ipykernel_17712\\909244397.py:54: FutureWarning: The frame.append method is deprecated and will be removed from pandas in a future version. Use pandas.concat instead.\n",
      "  df = df.append({'Product Name': product_name.text, 'Product Model': model_no, 'Product MAP Price': map_price, 'Product Cost': dealer_cost, 'UPC': upc, 'Product Description': description, 'Product Image URL': image_url}, ignore_index=True)\n"
     ]
    },
    {
     "name": "stdout",
     "output_type": "stream",
     "text": [
      "Product Name: AMERICAN ORIGINAL '70S JAZZ BASS®\n",
      "Product Model: 0190142821\n",
      "Dealer Cost: \n",
      "Product Price: \n",
      "UPC: 885978821570\n",
      "https://www.fmicassets.com/Damroot/Med/10002/0190142821_gtr_frt_001_rr.png\n",
      "Product Description: Over the course of the ‘70s, the Jazz Bass entered its “teenage years,” changing its visual style and inspiring new playing techniques—such as slapping—which led directly to new, creative forms of expression. Its smooth feel and growly midrange, tempered with a bit of treble bite, made it a hero in recording sessions around the globe. The American Original ‘70s Jazz Bass updates the smooth playing feel with a modern-radius fingerboard, while retaining the classic Fender tone and style that made the Jazz Bass the tool of choice for creative bassists.\n"
     ]
    },
    {
     "name": "stderr",
     "output_type": "stream",
     "text": [
      "C:\\Users\\AYNM\\AppData\\Local\\Temp\\ipykernel_17712\\909244397.py:54: FutureWarning: The frame.append method is deprecated and will be removed from pandas in a future version. Use pandas.concat instead.\n",
      "  df = df.append({'Product Name': product_name.text, 'Product Model': model_no, 'Product MAP Price': map_price, 'Product Cost': dealer_cost, 'UPC': upc, 'Product Description': description, 'Product Image URL': image_url}, ignore_index=True)\n"
     ]
    },
    {
     "name": "stdout",
     "output_type": "stream",
     "text": [
      "Product Name: AMERICAN ORIGINAL '70S JAZZ BASS®\n",
      "Product Model: 0190142841\n",
      "Dealer Cost: \n",
      "Product Price: 3,069.99\n",
      "UPC: 885978291014\n",
      "https://www.fmicassets.com/Damroot/Med/10001/0190142841_gtr_frt_001_rr.png\n",
      "Product Description: Over the course of the ‘70s, the Jazz Bass entered its “teenage years,” changing its visual style and inspiring new playing techniques—such as slapping—which led directly to new, creative forms of expression. Its smooth feel and growly midrange, tempered with a bit of treble bite, made it a hero in recording sessions around the globe. The American Original ‘70s Jazz Bass updates the smooth playing feel with a modern-radius fingerboard, while retaining the classic Fender tone and style that made the Jazz Bass the tool of choice for creative bassists.\n"
     ]
    },
    {
     "name": "stderr",
     "output_type": "stream",
     "text": [
      "C:\\Users\\AYNM\\AppData\\Local\\Temp\\ipykernel_17712\\909244397.py:54: FutureWarning: The frame.append method is deprecated and will be removed from pandas in a future version. Use pandas.concat instead.\n",
      "  df = df.append({'Product Name': product_name.text, 'Product Model': model_no, 'Product MAP Price': map_price, 'Product Cost': dealer_cost, 'UPC': upc, 'Product Description': description, 'Product Image URL': image_url}, ignore_index=True)\n"
     ]
    },
    {
     "name": "stdout",
     "output_type": "stream",
     "text": [
      "Product Name: AMERICAN PROFESSIONAL II JAZZ BASS® V\n",
      "Product Model: 0193992763\n",
      "Dealer Cost: \n",
      "Product Price: 2,759.99\n",
      "UPC: 885978579952\n",
      "https://www.fmicassets.com/Damroot/Med/10001/0193992763_fen_ins_frt_1_rr.png\n",
      "Product Description: The American Professional II Jazz Bass® V draws from more than sixty years of innovation, inspiration and evolution to meet the demands of today’s working player.\n",
      "Our popular Slim “C” neck now sports smooth rolled fingerboard edges, a “Super-Natural” satin finish and a newly sculpted neck heel for a supremely comfortable feel and easy access to the upper register. New V-Mod II Jazz Bass V single-coil pickups are more articulate than ever while delivering the punch and clarity the Jazz Bass is known for.\n",
      "The American Pro II Jazz Bass V delivers instant familiarity and sonic versatility you’ll feel and hear right away, with broad ranging improvements that add up to nothing less than a new standard for professional instruments.\n"
     ]
    },
    {
     "name": "stderr",
     "output_type": "stream",
     "text": [
      "C:\\Users\\AYNM\\AppData\\Local\\Temp\\ipykernel_17712\\909244397.py:54: FutureWarning: The frame.append method is deprecated and will be removed from pandas in a future version. Use pandas.concat instead.\n",
      "  df = df.append({'Product Name': product_name.text, 'Product Model': model_no, 'Product MAP Price': map_price, 'Product Cost': dealer_cost, 'UPC': upc, 'Product Description': description, 'Product Image URL': image_url}, ignore_index=True)\n"
     ]
    },
    {
     "name": "stdout",
     "output_type": "stream",
     "text": [
      "Product Name: AMERICAN PROFESSIONAL II JAZZ BASS® V\n",
      "Product Model: 0193992718\n",
      "Dealer Cost: \n",
      "Product Price: 2,619.99\n",
      "UPC: 885978657551\n",
      "https://www.fmicassets.com/Damroot/Med/10001/0193992718_fen_ins_frt_1_rr.png\n",
      "Product Description: The American Professional II Jazz Bass® V draws from more than sixty years of innovation, inspiration and evolution to meet the demands of today’s working player.\n",
      "Our popular Slim “C” neck now sports smooth rolled fingerboard edges, a “Super-Natural” satin finish and a newly sculpted neck heel for a supremely comfortable feel and easy access to the upper register. New V-Mod II Jazz Bass V single-coil pickups are more articulate than ever while delivering the punch and clarity the Jazz Bass is known for.\n",
      "The American Pro II Jazz Bass V delivers instant familiarity and sonic versatility you’ll feel and hear right away, with broad ranging improvements that add up to nothing less than a new standard for professional instruments.\n"
     ]
    },
    {
     "name": "stderr",
     "output_type": "stream",
     "text": [
      "C:\\Users\\AYNM\\AppData\\Local\\Temp\\ipykernel_17712\\909244397.py:54: FutureWarning: The frame.append method is deprecated and will be removed from pandas in a future version. Use pandas.concat instead.\n",
      "  df = df.append({'Product Name': product_name.text, 'Product Model': model_no, 'Product MAP Price': map_price, 'Product Cost': dealer_cost, 'UPC': upc, 'Product Description': description, 'Product Image URL': image_url}, ignore_index=True)\n"
     ]
    },
    {
     "name": "stdout",
     "output_type": "stream",
     "text": [
      "Product Name: AMERICAN PROFESSIONAL II JAZZ BASS® V\n",
      "Product Model: 0193990705\n",
      "Dealer Cost: \n",
      "Product Price: 2,619.99\n",
      "UPC: 885978579839\n",
      "https://www.fmicassets.com/Damroot/Med/10001/0193990705_fen_ins_frt_1_rr.png\n",
      "Product Description: The American Professional II Jazz Bass® V draws from more than sixty years of innovation, inspiration and evolution to meet the demands of today’s working player.\n",
      "Our popular Slim “C” neck now sports smooth rolled fingerboard edges, a “Super-Natural” satin finish and a newly sculpted neck heel for a supremely comfortable feel and easy access to the upper register. New V-Mod II Jazz Bass V single-coil pickups are more articulate than ever while delivering the punch and clarity the Jazz Bass is known for.\n",
      "The American Pro II Jazz Bass V delivers instant familiarity and sonic versatility you’ll feel and hear right away, with broad ranging improvements that add up to nothing less than a new standard for professional instruments.\n"
     ]
    },
    {
     "name": "stderr",
     "output_type": "stream",
     "text": [
      "C:\\Users\\AYNM\\AppData\\Local\\Temp\\ipykernel_17712\\909244397.py:54: FutureWarning: The frame.append method is deprecated and will be removed from pandas in a future version. Use pandas.concat instead.\n",
      "  df = df.append({'Product Name': product_name.text, 'Product Model': model_no, 'Product MAP Price': map_price, 'Product Cost': dealer_cost, 'UPC': upc, 'Product Description': description, 'Product Image URL': image_url}, ignore_index=True)\n"
     ]
    },
    {
     "name": "stdout",
     "output_type": "stream",
     "text": [
      "Product Name: AMERICAN PROFESSIONAL II JAZZ BASS® V\n",
      "Product Model: 0193990700\n",
      "Dealer Cost: \n",
      "Product Price: 2,619.99\n",
      "UPC: 885978436286\n",
      "https://www.fmicassets.com/Damroot/Med/10001/0193990700_fen_ins_frt_1_rr.png\n",
      "Product Description: The American Professional II Jazz Bass® V draws from more than sixty years of innovation, inspiration and evolution to meet the demands of today’s working player.\n",
      "Our popular Slim “C” neck now sports smooth rolled fingerboard edges, a “Super-Natural” satin finish and a newly sculpted neck heel for a supremely comfortable feel and easy access to the upper register. New V-Mod II Jazz Bass V single-coil pickups are more articulate than ever while delivering the punch and clarity the Jazz Bass is known for.\n",
      "The American Pro II Jazz Bass V delivers instant familiarity and sonic versatility you’ll feel and hear right away, with broad ranging improvements that add up to nothing less than a new standard for professional instruments.\n"
     ]
    },
    {
     "name": "stderr",
     "output_type": "stream",
     "text": [
      "C:\\Users\\AYNM\\AppData\\Local\\Temp\\ipykernel_17712\\909244397.py:54: FutureWarning: The frame.append method is deprecated and will be removed from pandas in a future version. Use pandas.concat instead.\n",
      "  df = df.append({'Product Name': product_name.text, 'Product Model': model_no, 'Product MAP Price': map_price, 'Product Cost': dealer_cost, 'UPC': upc, 'Product Description': description, 'Product Image URL': image_url}, ignore_index=True)\n"
     ]
    },
    {
     "name": "stdout",
     "output_type": "stream",
     "text": [
      "Product Name: AMERICAN PROFESSIONAL II JAZZ BASS®\n",
      "Product Model: 0193970700\n",
      "Dealer Cost: \n",
      "Product Price: 2,479.99\n",
      "UPC: 885978436248\n",
      "https://www.fmicassets.com/Damroot/Med/10001/0193970700_fen_ins_frt_1_rr.png\n",
      "Product Description: The American Professional II Jazz Bass® draws from more than sixty years of innovation, inspiration and evolution to meet the demands of today’s working player.\n",
      "Our popular Slim “C” neck now sports smooth rolled fingerboard edges, a “Super-Natural” satin finish and a newly sculpted neck heel for a supremely comfortable feel and easy access to the upper register. New V-Mod II Jazz Bass single-coil pickups are more articulate than ever while delivering the punch and clarity the Jazz Bass is known for.\n",
      "The American Pro II Jazz Bass delivers instant familiarity and sonic versatility you’ll feel and hear right away, with broad ranging improvements that add up to nothing less than a new standard for professional instruments.\n"
     ]
    },
    {
     "name": "stderr",
     "output_type": "stream",
     "text": [
      "C:\\Users\\AYNM\\AppData\\Local\\Temp\\ipykernel_17712\\909244397.py:54: FutureWarning: The frame.append method is deprecated and will be removed from pandas in a future version. Use pandas.concat instead.\n",
      "  df = df.append({'Product Name': product_name.text, 'Product Model': model_no, 'Product MAP Price': map_price, 'Product Cost': dealer_cost, 'UPC': upc, 'Product Description': description, 'Product Image URL': image_url}, ignore_index=True)\n"
     ]
    },
    {
     "name": "stdout",
     "output_type": "stream",
     "text": [
      "Product Name: AMERICAN PROFESSIONAL II JAZZ BASS®\n",
      "Product Model: 0193970705\n",
      "Dealer Cost: \n",
      "Product Price: 2,479.99\n",
      "UPC: 885978579976\n",
      "https://www.fmicassets.com/Damroot/Med/10001/0193970705_fen_ins_frt_1_rr.png\n",
      "Product Description: The American Professional II Jazz Bass® draws from more than sixty years of innovation, inspiration and evolution to meet the demands of today’s working player.\n",
      "Our popular Slim “C” neck now sports smooth rolled fingerboard edges, a “Super-Natural” satin finish and a newly sculpted neck heel for a supremely comfortable feel and easy access to the upper register. New V-Mod II Jazz Bass single-coil pickups are more articulate than ever while delivering the punch and clarity the Jazz Bass is known for.\n",
      "The American Pro II Jazz Bass delivers instant familiarity and sonic versatility you’ll feel and hear right away, with broad ranging improvements that add up to nothing less than a new standard for professional instruments.\n"
     ]
    },
    {
     "name": "stderr",
     "output_type": "stream",
     "text": [
      "C:\\Users\\AYNM\\AppData\\Local\\Temp\\ipykernel_17712\\909244397.py:54: FutureWarning: The frame.append method is deprecated and will be removed from pandas in a future version. Use pandas.concat instead.\n",
      "  df = df.append({'Product Name': product_name.text, 'Product Model': model_no, 'Product MAP Price': map_price, 'Product Cost': dealer_cost, 'UPC': upc, 'Product Description': description, 'Product Image URL': image_url}, ignore_index=True)\n"
     ]
    },
    {
     "name": "stdout",
     "output_type": "stream",
     "text": [
      "Product Name: AMERICAN PROFESSIONAL II JAZZ BASS®\n",
      "Product Model: 0193970755\n",
      "Dealer Cost: \n",
      "Product Price: 2,479.99\n",
      "UPC: 885978580057\n",
      "https://www.fmicassets.com/Damroot/Med/10001/0193970755_fen_ins_frt_1_rr.png\n",
      "Product Description: The American Professional II Jazz Bass® draws from more than sixty years of innovation, inspiration and evolution to meet the demands of today’s working player.\n",
      "Our popular Slim “C” neck now sports smooth rolled fingerboard edges, a “Super-Natural” satin finish and a newly sculpted neck heel for a supremely comfortable feel and easy access to the upper register. New V-Mod II Jazz Bass single-coil pickups are more articulate than ever while delivering the punch and clarity the Jazz Bass is known for.\n",
      "The American Pro II Jazz Bass delivers instant familiarity and sonic versatility you’ll feel and hear right away, with broad ranging improvements that add up to nothing less than a new standard for professional instruments.\n"
     ]
    },
    {
     "name": "stderr",
     "output_type": "stream",
     "text": [
      "C:\\Users\\AYNM\\AppData\\Local\\Temp\\ipykernel_17712\\909244397.py:54: FutureWarning: The frame.append method is deprecated and will be removed from pandas in a future version. Use pandas.concat instead.\n",
      "  df = df.append({'Product Name': product_name.text, 'Product Model': model_no, 'Product MAP Price': map_price, 'Product Cost': dealer_cost, 'UPC': upc, 'Product Description': description, 'Product Image URL': image_url}, ignore_index=True)\n"
     ]
    },
    {
     "name": "stdout",
     "output_type": "stream",
     "text": [
      "Product Name: AMERICAN PROFESSIONAL II JAZZ BASS®\n",
      "Product Model: 0193970706\n",
      "Dealer Cost: \n",
      "Product Price: 2,479.99\n",
      "UPC: 885978580101\n",
      "https://www.fmicassets.com/Damroot/Med/10001/0193970706_fen_ins_frt_1_rr.png\n",
      "Product Description: The American Professional II Jazz Bass® draws from more than sixty years of innovation, inspiration and evolution to meet the demands of today’s working player.\n",
      "Our popular Slim “C” neck now sports smooth rolled fingerboard edges, a “Super-Natural” satin finish and a newly sculpted neck heel for a supremely comfortable feel and easy access to the upper register. New V-Mod II Jazz Bass single-coil pickups are more articulate than ever while delivering the punch and clarity the Jazz Bass is known for.\n",
      "The American Pro II Jazz Bass delivers instant familiarity and sonic versatility you’ll feel and hear right away, with broad ranging improvements that add up to nothing less than a new standard for professional instruments.\n"
     ]
    },
    {
     "name": "stderr",
     "output_type": "stream",
     "text": [
      "C:\\Users\\AYNM\\AppData\\Local\\Temp\\ipykernel_17712\\909244397.py:54: FutureWarning: The frame.append method is deprecated and will be removed from pandas in a future version. Use pandas.concat instead.\n",
      "  df = df.append({'Product Name': product_name.text, 'Product Model': model_no, 'Product MAP Price': map_price, 'Product Cost': dealer_cost, 'UPC': upc, 'Product Description': description, 'Product Image URL': image_url}, ignore_index=True)\n"
     ]
    },
    {
     "name": "stdout",
     "output_type": "stream",
     "text": [
      "Product Name: AMERICAN PROFESSIONAL II JAZZ BASS®\n",
      "Product Model: 0193972761\n",
      "Dealer Cost: \n",
      "Product Price: 2,479.99\n",
      "UPC: 885978580187\n",
      "https://www.fmicassets.com/Damroot/Med/10001/0193972761_fen_ins_frt_1_rr.png\n",
      "Product Description: The American Professional II Jazz Bass® draws from more than sixty years of innovation, inspiration and evolution to meet the demands of today’s working player.\n",
      "Our popular Slim “C” neck now sports smooth rolled fingerboard edges, a “Super-Natural” satin finish and a newly sculpted neck heel for a supremely comfortable feel and easy access to the upper register. New V-Mod II Jazz Bass single-coil pickups are more articulate than ever while delivering the punch and clarity the Jazz Bass is known for.\n",
      "The American Pro II Jazz Bass delivers instant familiarity and sonic versatility you’ll feel and hear right away, with broad ranging improvements that add up to nothing less than a new standard for professional instruments.\n"
     ]
    },
    {
     "name": "stderr",
     "output_type": "stream",
     "text": [
      "C:\\Users\\AYNM\\AppData\\Local\\Temp\\ipykernel_17712\\909244397.py:54: FutureWarning: The frame.append method is deprecated and will be removed from pandas in a future version. Use pandas.concat instead.\n",
      "  df = df.append({'Product Name': product_name.text, 'Product Model': model_no, 'Product MAP Price': map_price, 'Product Cost': dealer_cost, 'UPC': upc, 'Product Description': description, 'Product Image URL': image_url}, ignore_index=True)\n"
     ]
    },
    {
     "name": "stdout",
     "output_type": "stream",
     "text": [
      "Product Name: AMERICAN PROFESSIONAL II JAZZ BASS®\n",
      "Product Model: 0193972705\n",
      "Dealer Cost: \n",
      "Product Price: 2,479.99\n",
      "UPC: 885978580149\n",
      "https://www.fmicassets.com/Damroot/Med/10001/0193972705_fen_ins_frt_1_rr.png\n",
      "Product Description: The American Professional II Jazz Bass® draws from more than sixty years of innovation, inspiration and evolution to meet the demands of today’s working player.\n",
      "Our popular Slim “C” neck now sports smooth rolled fingerboard edges, a “Super-Natural” satin finish and a newly sculpted neck heel for a supremely comfortable feel and easy access to the upper register. New V-Mod II Jazz Bass single-coil pickups are more articulate than ever while delivering the punch and clarity the Jazz Bass is known for.\n",
      "The American Pro II Jazz Bass delivers instant familiarity and sonic versatility you’ll feel and hear right away, with broad ranging improvements that add up to nothing less than a new standard for professional instruments.\n"
     ]
    },
    {
     "name": "stderr",
     "output_type": "stream",
     "text": [
      "C:\\Users\\AYNM\\AppData\\Local\\Temp\\ipykernel_17712\\909244397.py:54: FutureWarning: The frame.append method is deprecated and will be removed from pandas in a future version. Use pandas.concat instead.\n",
      "  df = df.append({'Product Name': product_name.text, 'Product Model': model_no, 'Product MAP Price': map_price, 'Product Cost': dealer_cost, 'UPC': upc, 'Product Description': description, 'Product Image URL': image_url}, ignore_index=True)\n"
     ]
    },
    {
     "name": "stdout",
     "output_type": "stream",
     "text": [
      "Product Name: AMERICAN PROFESSIONAL II JAZZ BASS®\n",
      "Product Model: 0193972718\n",
      "Dealer Cost: \n",
      "Product Price: 2,479.99\n",
      "UPC: 885978580163\n",
      "https://www.fmicassets.com/Damroot/Med/10001/0193972718_fen_ins_frt_1_rr.png\n",
      "Product Description: The American Professional II Jazz Bass® draws from more than sixty years of innovation, inspiration and evolution to meet the demands of today’s working player.\n",
      "Our popular Slim “C” neck now sports smooth rolled fingerboard edges, a “Super-Natural” satin finish and a newly sculpted neck heel for a supremely comfortable feel and easy access to the upper register. New V-Mod II Jazz Bass single-coil pickups are more articulate than ever while delivering the punch and clarity the Jazz Bass is known for.\n",
      "The American Pro II Jazz Bass delivers instant familiarity and sonic versatility you’ll feel and hear right away, with broad ranging improvements that add up to nothing less than a new standard for professional instruments.\n"
     ]
    },
    {
     "name": "stderr",
     "output_type": "stream",
     "text": [
      "C:\\Users\\AYNM\\AppData\\Local\\Temp\\ipykernel_17712\\909244397.py:54: FutureWarning: The frame.append method is deprecated and will be removed from pandas in a future version. Use pandas.concat instead.\n",
      "  df = df.append({'Product Name': product_name.text, 'Product Model': model_no, 'Product MAP Price': map_price, 'Product Cost': dealer_cost, 'UPC': upc, 'Product Description': description, 'Product Image URL': image_url}, ignore_index=True)\n"
     ]
    },
    {
     "name": "stdout",
     "output_type": "stream",
     "text": [
      "Product Name: AMERICAN PROFESSIONAL II JAZZ BASS®\n",
      "Product Model: 0193972700\n",
      "Dealer Cost: \n",
      "Product Price: 2,479.99\n",
      "UPC: 885978603145\n",
      "https://www.fmicassets.com/Damroot/Med/10001/0193972700_fen_ins_frt_1_rr.png\n",
      "Product Description: The American Professional II Jazz Bass® draws from more than sixty years of innovation, inspiration and evolution to meet the demands of today’s working player.\n",
      "Our popular Slim “C” neck now sports smooth rolled fingerboard edges, a “Super-Natural” satin finish and a newly sculpted neck heel for a supremely comfortable feel and easy access to the upper register. New V-Mod II Jazz Bass single-coil pickups are more articulate than ever while delivering the punch and clarity the Jazz Bass is known for.\n",
      "The American Pro II Jazz Bass delivers instant familiarity and sonic versatility you’ll feel and hear right away, with broad ranging improvements that add up to nothing less than a new standard for professional instruments.\n"
     ]
    },
    {
     "name": "stderr",
     "output_type": "stream",
     "text": [
      "C:\\Users\\AYNM\\AppData\\Local\\Temp\\ipykernel_17712\\909244397.py:54: FutureWarning: The frame.append method is deprecated and will be removed from pandas in a future version. Use pandas.concat instead.\n",
      "  df = df.append({'Product Name': product_name.text, 'Product Model': model_no, 'Product MAP Price': map_price, 'Product Cost': dealer_cost, 'UPC': upc, 'Product Description': description, 'Product Image URL': image_url}, ignore_index=True)\n"
     ]
    },
    {
     "name": "stdout",
     "output_type": "stream",
     "text": [
      "Product Name: AMERICAN PROFESSIONAL II JAZZ BASS®\n",
      "Product Model: 0193972763\n",
      "Dealer Cost: \n",
      "Product Price: 2,619.99\n",
      "UPC: 885978580125\n",
      "https://www.fmicassets.com/Damroot/Med/10001/0193972763_fen_ins_frt_1_rr.png\n",
      "Product Description: The American Professional II Jazz Bass® draws from more than sixty years of innovation, inspiration and evolution to meet the demands of today’s working player.\n",
      "Our popular Slim “C” neck now sports smooth rolled fingerboard edges, a “Super-Natural” satin finish and a newly sculpted neck heel for a supremely comfortable feel and easy access to the upper register. New V-Mod II Jazz Bass single-coil pickups are more articulate than ever while delivering the punch and clarity the Jazz Bass is known for.\n",
      "The American Pro II Jazz Bass delivers instant familiarity and sonic versatility you’ll feel and hear right away, with broad ranging improvements that add up to nothing less than a new standard for professional instruments.\n"
     ]
    },
    {
     "name": "stderr",
     "output_type": "stream",
     "text": [
      "C:\\Users\\AYNM\\AppData\\Local\\Temp\\ipykernel_17712\\909244397.py:54: FutureWarning: The frame.append method is deprecated and will be removed from pandas in a future version. Use pandas.concat instead.\n",
      "  df = df.append({'Product Name': product_name.text, 'Product Model': model_no, 'Product MAP Price': map_price, 'Product Cost': dealer_cost, 'UPC': upc, 'Product Description': description, 'Product Image URL': image_url}, ignore_index=True)\n"
     ]
    },
    {
     "name": "stdout",
     "output_type": "stream",
     "text": [
      "Product Name: AMERICAN PROFESSIONAL II JAZZ BASS®\n",
      "Product Model: 0193970719\n",
      "Dealer Cost: \n",
      "Product Price: 2,479.99\n",
      "UPC: 885978657490\n",
      "https://www.fmicassets.com/Damroot/Med/10001/0193970719_fen_ins_frt_1_rr.png\n",
      "Product Description: The American Professional II Jazz Bass® draws from more than sixty years of innovation, inspiration and evolution to meet the demands of today’s working player.\n",
      "Our popular Slim “C” neck now sports smooth rolled fingerboard edges, a “Super-Natural” satin finish and a newly sculpted neck heel for a supremely comfortable feel and easy access to the upper register. New V-Mod II Jazz Bass single-coil pickups are more articulate than ever while delivering the punch and clarity the Jazz Bass is known for.\n",
      "The American Pro II Jazz Bass delivers instant familiarity and sonic versatility you’ll feel and hear right away, with broad ranging improvements that add up to nothing less than a new standard for professional instruments.\n"
     ]
    },
    {
     "name": "stderr",
     "output_type": "stream",
     "text": [
      "C:\\Users\\AYNM\\AppData\\Local\\Temp\\ipykernel_17712\\909244397.py:54: FutureWarning: The frame.append method is deprecated and will be removed from pandas in a future version. Use pandas.concat instead.\n",
      "  df = df.append({'Product Name': product_name.text, 'Product Model': model_no, 'Product MAP Price': map_price, 'Product Cost': dealer_cost, 'UPC': upc, 'Product Description': description, 'Product Image URL': image_url}, ignore_index=True)\n"
     ]
    },
    {
     "name": "stdout",
     "output_type": "stream",
     "text": [
      "Product Name: AMERICAN ORIGINAL '60S PRECISION BASS®\n",
      "Product Model: 0190120802\n",
      "Dealer Cost: \n",
      "Product Price: 2,689.99\n",
      "UPC: 885978841134\n",
      "https://www.fmicassets.com/Damroot/Med/10001/0190120802_gtr_frt_001_rr.png\n",
      "Product Description: By the 1960s, the Precision Bass was the workhorse electric bass; from the clubs of Detroit to the beaches of Southern California, its tone laid the foundation for modern music. The American Original ‘60s Precision Bass has all of the features with which the P Bass conquered the world of music—elegantly simple, its sound, style and comfort are joined by modern playability.\n"
     ]
    },
    {
     "name": "stderr",
     "output_type": "stream",
     "text": [
      "C:\\Users\\AYNM\\AppData\\Local\\Temp\\ipykernel_17712\\909244397.py:54: FutureWarning: The frame.append method is deprecated and will be removed from pandas in a future version. Use pandas.concat instead.\n",
      "  df = df.append({'Product Name': product_name.text, 'Product Model': model_no, 'Product MAP Price': map_price, 'Product Cost': dealer_cost, 'UPC': upc, 'Product Description': description, 'Product Image URL': image_url}, ignore_index=True)\n"
     ]
    },
    {
     "name": "stdout",
     "output_type": "stream",
     "text": [
      "Product Name: AMERICAN ORIGINAL '60S PRECISION BASS®\n",
      "Product Model: 0190120857\n",
      "Dealer Cost: \n",
      "Product Price: 2,689.99\n",
      "UPC: 885978290925\n",
      "https://www.fmicassets.com/Damroot/Med/10001/0190120857_gtr_frt_001_rr.png\n",
      "Product Description: By the 1960s, the Precision Bass was the workhorse electric bass; from the clubs of Detroit to the beaches of Southern California, its tone laid the foundation for modern music. The American Original ‘60s Precision Bass has all of the features with which the P Bass conquered the world of music—elegantly simple, its sound, style and comfort are joined by modern playability.\n"
     ]
    },
    {
     "name": "stderr",
     "output_type": "stream",
     "text": [
      "C:\\Users\\AYNM\\AppData\\Local\\Temp\\ipykernel_17712\\909244397.py:54: FutureWarning: The frame.append method is deprecated and will be removed from pandas in a future version. Use pandas.concat instead.\n",
      "  df = df.append({'Product Name': product_name.text, 'Product Model': model_no, 'Product MAP Price': map_price, 'Product Cost': dealer_cost, 'UPC': upc, 'Product Description': description, 'Product Image URL': image_url}, ignore_index=True)\n"
     ]
    },
    {
     "name": "stdout",
     "output_type": "stream",
     "text": [
      "Product Name: AMERICAN ORIGINAL '60S PRECISION BASS®\n",
      "Product Model: 0190120800\n",
      "Dealer Cost: \n",
      "Product Price: \n",
      "UPC: 885978821037\n",
      "https://www.fmicassets.com/Damroot/Med/10001/0190120800_gtr_frt_001_rr.png\n",
      "Product Description: By the 1960s, the Precision Bass was the workhorse electric bass; from the clubs of Detroit to the beaches of Southern California, its tone laid the foundation for modern music. The American Original ‘60s Precision Bass has all of the features with which the P Bass conquered the world of music—elegantly simple, its sound, style and comfort are joined by modern playability.\n"
     ]
    },
    {
     "name": "stderr",
     "output_type": "stream",
     "text": [
      "C:\\Users\\AYNM\\AppData\\Local\\Temp\\ipykernel_17712\\909244397.py:54: FutureWarning: The frame.append method is deprecated and will be removed from pandas in a future version. Use pandas.concat instead.\n",
      "  df = df.append({'Product Name': product_name.text, 'Product Model': model_no, 'Product MAP Price': map_price, 'Product Cost': dealer_cost, 'UPC': upc, 'Product Description': description, 'Product Image URL': image_url}, ignore_index=True)\n"
     ]
    },
    {
     "name": "stdout",
     "output_type": "stream",
     "text": [
      "Product Name: AMERICAN PERFORMER MUSTANG® BASS\n",
      "Product Model: 0198620380\n",
      "Dealer Cost: \n",
      "Product Price: 2,069.99\n",
      "UPC: 885978952892\n",
      "https://www.fmicassets.com/Damroot/Med/10001/0198620380_gtr_frt_001_rr.png\n",
      "Product Description: Born in Corona, California, the short-scale American Performer Mustang Bass delivers the exceptional tone and feel you expect from an authentic Fender—along with new enhancements and a special split-coil pickup, replicated from the original ‘70s drawings, that make it even more inspiring to play.\n"
     ]
    },
    {
     "name": "stderr",
     "output_type": "stream",
     "text": [
      "C:\\Users\\AYNM\\AppData\\Local\\Temp\\ipykernel_17712\\909244397.py:54: FutureWarning: The frame.append method is deprecated and will be removed from pandas in a future version. Use pandas.concat instead.\n",
      "  df = df.append({'Product Name': product_name.text, 'Product Model': model_no, 'Product MAP Price': map_price, 'Product Cost': dealer_cost, 'UPC': upc, 'Product Description': description, 'Product Image URL': image_url}, ignore_index=True)\n"
     ]
    },
    {
     "name": "stdout",
     "output_type": "stream",
     "text": [
      "Product Name: AMERICAN PERFORMER MUSTANG® BASS\n",
      "Product Model: 0198620357\n",
      "Dealer Cost: \n",
      "Product Price: 2,069.99\n",
      "UPC: 885978981564\n",
      "https://www.fmicassets.com/Damroot/Med/10001/0198620357_gtr_frt_001_rr.png\n",
      "Product Description: Born in Corona, California, the short-scale American Performer Mustang Bass delivers the exceptional tone and feel you expect from an authentic Fender—along with new enhancements and a special split-coil pickup, replicated from the original ‘70s drawings, that make it even more inspiring to play.\n"
     ]
    },
    {
     "name": "stderr",
     "output_type": "stream",
     "text": [
      "C:\\Users\\AYNM\\AppData\\Local\\Temp\\ipykernel_17712\\909244397.py:54: FutureWarning: The frame.append method is deprecated and will be removed from pandas in a future version. Use pandas.concat instead.\n",
      "  df = df.append({'Product Name': product_name.text, 'Product Model': model_no, 'Product MAP Price': map_price, 'Product Cost': dealer_cost, 'UPC': upc, 'Product Description': description, 'Product Image URL': image_url}, ignore_index=True)\n"
     ]
    },
    {
     "name": "stdout",
     "output_type": "stream",
     "text": [
      "Product Name: AMERICAN PERFORMER MUSTANG® BASS\n",
      "Product Model: 0198620345\n",
      "Dealer Cost: \n",
      "Product Price: 2,069.99\n",
      "UPC: 885978952908\n",
      "https://www.fmicassets.com/Damroot/Med/10001/0198620345_gtr_frt_001_rr.png\n",
      "Product Description: Born in Corona, California, the short-scale American Performer Mustang Bass delivers the exceptional tone and feel you expect from an authentic Fender—along with new enhancements and a special split-coil pickup, replicated from the original ‘70s drawings, that make it even more inspiring to play.\n"
     ]
    },
    {
     "name": "stderr",
     "output_type": "stream",
     "text": [
      "C:\\Users\\AYNM\\AppData\\Local\\Temp\\ipykernel_17712\\909244397.py:54: FutureWarning: The frame.append method is deprecated and will be removed from pandas in a future version. Use pandas.concat instead.\n",
      "  df = df.append({'Product Name': product_name.text, 'Product Model': model_no, 'Product MAP Price': map_price, 'Product Cost': dealer_cost, 'UPC': upc, 'Product Description': description, 'Product Image URL': image_url}, ignore_index=True)\n"
     ]
    },
    {
     "name": "stdout",
     "output_type": "stream",
     "text": [
      "Product Name: AMERICAN PERFORMER MUSTANG® BASS\n",
      "Product Model: 0198620300\n",
      "Dealer Cost: \n",
      "Product Price: 2,069.99\n",
      "UPC: 885978952885\n",
      "https://www.fmicassets.com/Damroot/Med/10001/0198620300_gtr_frt_001_rr.png\n",
      "Product Description: Born in Corona, California, the short-scale American Performer Mustang Bass delivers the exceptional tone and feel you expect from an authentic Fender—along with new enhancements and a special split-coil pickup, replicated from the original ‘70s drawings, that make it even more inspiring to play.\n"
     ]
    },
    {
     "name": "stderr",
     "output_type": "stream",
     "text": [
      "C:\\Users\\AYNM\\AppData\\Local\\Temp\\ipykernel_17712\\909244397.py:54: FutureWarning: The frame.append method is deprecated and will be removed from pandas in a future version. Use pandas.concat instead.\n",
      "  df = df.append({'Product Name': product_name.text, 'Product Model': model_no, 'Product MAP Price': map_price, 'Product Cost': dealer_cost, 'UPC': upc, 'Product Description': description, 'Product Image URL': image_url}, ignore_index=True)\n"
     ]
    },
    {
     "name": "stdout",
     "output_type": "stream",
     "text": [
      "Product Name: AMERICAN PERFORMER JAZZ BASS®\n",
      "Product Model: 0198610380\n",
      "Dealer Cost: \n",
      "Product Price: 2,069.99\n",
      "UPC: 885978952861\n",
      "https://www.fmicassets.com/Damroot/Med/10001/0198610380_gtr_frt_001_rr.png\n",
      "Product Description: Crafted in Corona, California, the American Jazz Bass delivers the exceptional tone and feel you expect from an authentic Fender—along with new enhancements that make it even more inspiring to play.\n"
     ]
    },
    {
     "name": "stderr",
     "output_type": "stream",
     "text": [
      "C:\\Users\\AYNM\\AppData\\Local\\Temp\\ipykernel_17712\\909244397.py:54: FutureWarning: The frame.append method is deprecated and will be removed from pandas in a future version. Use pandas.concat instead.\n",
      "  df = df.append({'Product Name': product_name.text, 'Product Model': model_no, 'Product MAP Price': map_price, 'Product Cost': dealer_cost, 'UPC': upc, 'Product Description': description, 'Product Image URL': image_url}, ignore_index=True)\n"
     ]
    },
    {
     "name": "stdout",
     "output_type": "stream",
     "text": [
      "Product Name: AMERICAN PERFORMER JAZZ BASS®\n",
      "Product Model: 0198610380\n",
      "Dealer Cost: \n",
      "Product Price: 2,069.99\n",
      "UPC: 885978952861\n",
      "https://www.fmicassets.com/Damroot/Med/10001/0198610380_gtr_frt_001_rr.png\n",
      "Product Description: Crafted in Corona, California, the American Jazz Bass delivers the exceptional tone and feel you expect from an authentic Fender—along with new enhancements that make it even more inspiring to play.\n"
     ]
    },
    {
     "name": "stderr",
     "output_type": "stream",
     "text": [
      "C:\\Users\\AYNM\\AppData\\Local\\Temp\\ipykernel_17712\\909244397.py:54: FutureWarning: The frame.append method is deprecated and will be removed from pandas in a future version. Use pandas.concat instead.\n",
      "  df = df.append({'Product Name': product_name.text, 'Product Model': model_no, 'Product MAP Price': map_price, 'Product Cost': dealer_cost, 'UPC': upc, 'Product Description': description, 'Product Image URL': image_url}, ignore_index=True)\n"
     ]
    },
    {
     "name": "stdout",
     "output_type": "stream",
     "text": [
      "Product Name: AMERICAN PERFORMER JAZZ BASS®\n",
      "Product Model: 0198610380\n",
      "Dealer Cost: \n",
      "Product Price: 2,069.99\n",
      "UPC: 885978952861\n",
      "https://www.fmicassets.com/Damroot/Med/10001/0198610380_gtr_frt_001_rr.png\n",
      "Product Description: Crafted in Corona, California, the American Jazz Bass delivers the exceptional tone and feel you expect from an authentic Fender—along with new enhancements that make it even more inspiring to play.\n"
     ]
    },
    {
     "name": "stderr",
     "output_type": "stream",
     "text": [
      "C:\\Users\\AYNM\\AppData\\Local\\Temp\\ipykernel_17712\\909244397.py:54: FutureWarning: The frame.append method is deprecated and will be removed from pandas in a future version. Use pandas.concat instead.\n",
      "  df = df.append({'Product Name': product_name.text, 'Product Model': model_no, 'Product MAP Price': map_price, 'Product Cost': dealer_cost, 'UPC': upc, 'Product Description': description, 'Product Image URL': image_url}, ignore_index=True)\n"
     ]
    },
    {
     "name": "stdout",
     "output_type": "stream",
     "text": [
      "Product Name: AMERICAN PROFESSIONAL II JAZZ BASS® FRETLESS\n",
      "Product Model: 0194000761\n",
      "Dealer Cost: \n",
      "Product Price: 2,479.99\n",
      "UPC: 885978580217\n",
      "https://www.fmicassets.com/Damroot/Med/10001/0194000761_fen_ins_frt_1_rr.png\n",
      "Product Description: The American Professional II Jazz Bass® Fretless draws from more than sixty years of innovation, inspiration and evolution to meet the demands of today’s working player.\n",
      "Our popular Slim “C” neck now sports smooth rolled fingerboard edges, a “Super-Natural” satin finish and a newly sculpted neck heel for a supremely comfortable feel and easy access to the upper register. New V-Mod II Jazz Bass single-coil pickups are more articulate than ever while delivering the punch and clarity the Jazz Bass is known for.\n",
      "The American Pro II Jazz Bass Fretless delivers instant familiarity and sonic versatility you’ll feel and hear right away, with broad ranging improvements that add up to nothing less than a new standard for professional instruments.\n"
     ]
    },
    {
     "name": "stderr",
     "output_type": "stream",
     "text": [
      "C:\\Users\\AYNM\\AppData\\Local\\Temp\\ipykernel_17712\\909244397.py:54: FutureWarning: The frame.append method is deprecated and will be removed from pandas in a future version. Use pandas.concat instead.\n",
      "  df = df.append({'Product Name': product_name.text, 'Product Model': model_no, 'Product MAP Price': map_price, 'Product Cost': dealer_cost, 'UPC': upc, 'Product Description': description, 'Product Image URL': image_url}, ignore_index=True)\n"
     ]
    },
    {
     "name": "stdout",
     "output_type": "stream",
     "text": [
      "Product Name: AMERICAN PROFESSIONAL II JAZZ BASS® FRETLESS\n",
      "Product Model: 0194000700\n",
      "Dealer Cost: \n",
      "Product Price: 2,479.99\n",
      "UPC: 885978436293\n",
      "https://www.fmicassets.com/Damroot/Med/10001/0194000700_fen_ins_frt_1_rr.png\n",
      "Product Description: The American Professional II Jazz Bass® Fretless draws from more than sixty years of innovation, inspiration and evolution to meet the demands of today’s working player.\n",
      "Our popular Slim “C” neck now sports smooth rolled fingerboard edges, a “Super-Natural” satin finish and a newly sculpted neck heel for a supremely comfortable feel and easy access to the upper register. New V-Mod II Jazz Bass single-coil pickups are more articulate than ever while delivering the punch and clarity the Jazz Bass is known for.\n",
      "The American Pro II Jazz Bass Fretless delivers instant familiarity and sonic versatility you’ll feel and hear right away, with broad ranging improvements that add up to nothing less than a new standard for professional instruments.\n"
     ]
    },
    {
     "name": "stderr",
     "output_type": "stream",
     "text": [
      "C:\\Users\\AYNM\\AppData\\Local\\Temp\\ipykernel_17712\\909244397.py:54: FutureWarning: The frame.append method is deprecated and will be removed from pandas in a future version. Use pandas.concat instead.\n",
      "  df = df.append({'Product Name': product_name.text, 'Product Model': model_no, 'Product MAP Price': map_price, 'Product Cost': dealer_cost, 'UPC': upc, 'Product Description': description, 'Product Image URL': image_url}, ignore_index=True)\n"
     ]
    },
    {
     "name": "stdout",
     "output_type": "stream",
     "text": [
      "Product Name: AMERICAN PROFESSIONAL II JAZZ BASS® FRETLESS\n",
      "Product Model: 0194000705\n",
      "Dealer Cost: \n",
      "Product Price: 2,479.99\n",
      "UPC: 885978580200\n",
      "https://www.fmicassets.com/Damroot/Med/10001/0194000705_fen_ins_frt_1_rr.png\n",
      "Product Description: The American Professional II Jazz Bass® Fretless draws from more than sixty years of innovation, inspiration and evolution to meet the demands of today’s working player.\n",
      "Our popular Slim “C” neck now sports smooth rolled fingerboard edges, a “Super-Natural” satin finish and a newly sculpted neck heel for a supremely comfortable feel and easy access to the upper register. New V-Mod II Jazz Bass single-coil pickups are more articulate than ever while delivering the punch and clarity the Jazz Bass is known for.\n",
      "The American Pro II Jazz Bass Fretless delivers instant familiarity and sonic versatility you’ll feel and hear right away, with broad ranging improvements that add up to nothing less than a new standard for professional instruments.\n"
     ]
    },
    {
     "name": "stderr",
     "output_type": "stream",
     "text": [
      "C:\\Users\\AYNM\\AppData\\Local\\Temp\\ipykernel_17712\\909244397.py:54: FutureWarning: The frame.append method is deprecated and will be removed from pandas in a future version. Use pandas.concat instead.\n",
      "  df = df.append({'Product Name': product_name.text, 'Product Model': model_no, 'Product MAP Price': map_price, 'Product Cost': dealer_cost, 'UPC': upc, 'Product Description': description, 'Product Image URL': image_url}, ignore_index=True)\n"
     ]
    },
    {
     "name": "stdout",
     "output_type": "stream",
     "text": [
      "Product Name: AMERICAN PROFESSIONAL II PRECISION BASS®\n",
      "Product Model: 0193932719\n",
      "Dealer Cost: \n",
      "Product Price: 2,399.99\n",
      "UPC: 885978657582\n",
      "https://www.fmicassets.com/Damroot/Med/10001/0193932719_fen_ins_frt_1_rr.png\n",
      "Product Description: The American Professional II Precision Bass® draws from more than sixty years of innovation, inspiration and evolution to meet the demands of today’s working player.\n",
      "The ’63 P Bass profile neck now sports smooth rolled fingerboard edges, a “Super-Natural” satin finish and a newly sculpted neck heel for a supremely comfortable feel and easy access to the upper register. The new V-Mod II Precision Bass split-coil pickup is more articulate than ever while delivering the punch and growl the P Bass® is known for.\n",
      "The American Pro II Precision Bass delivers instant familiarity and sonic versatility you’ll feel and hear right away, with broad ranging improvements that add up to nothing less than a new standard for professional instruments.\n"
     ]
    },
    {
     "name": "stderr",
     "output_type": "stream",
     "text": [
      "C:\\Users\\AYNM\\AppData\\Local\\Temp\\ipykernel_17712\\909244397.py:54: FutureWarning: The frame.append method is deprecated and will be removed from pandas in a future version. Use pandas.concat instead.\n",
      "  df = df.append({'Product Name': product_name.text, 'Product Model': model_no, 'Product MAP Price': map_price, 'Product Cost': dealer_cost, 'UPC': upc, 'Product Description': description, 'Product Image URL': image_url}, ignore_index=True)\n"
     ]
    },
    {
     "name": "stdout",
     "output_type": "stream",
     "text": [
      "Product Name: AMERICAN PROFESSIONAL II PRECISION BASS®\n",
      "Product Model: 0193932705\n",
      "Dealer Cost: \n",
      "Product Price: 2,399.99\n",
      "UPC: 885978579266\n",
      "https://www.fmicassets.com/Damroot/Med/10001/0193932705_fen_ins_frt_1_rr.png\n",
      "Product Description: The American Professional II Precision Bass® draws from more than sixty years of innovation, inspiration and evolution to meet the demands of today’s working player.\n",
      "The ’63 P Bass profile neck now sports smooth rolled fingerboard edges, a “Super-Natural” satin finish and a newly sculpted neck heel for a supremely comfortable feel and easy access to the upper register. The new V-Mod II Precision Bass split-coil pickup is more articulate than ever while delivering the punch and growl the P Bass® is known for.\n",
      "The American Pro II Precision Bass delivers instant familiarity and sonic versatility you’ll feel and hear right away, with broad ranging improvements that add up to nothing less than a new standard for professional instruments.\n"
     ]
    },
    {
     "name": "stderr",
     "output_type": "stream",
     "text": [
      "C:\\Users\\AYNM\\AppData\\Local\\Temp\\ipykernel_17712\\909244397.py:54: FutureWarning: The frame.append method is deprecated and will be removed from pandas in a future version. Use pandas.concat instead.\n",
      "  df = df.append({'Product Name': product_name.text, 'Product Model': model_no, 'Product MAP Price': map_price, 'Product Cost': dealer_cost, 'UPC': upc, 'Product Description': description, 'Product Image URL': image_url}, ignore_index=True)\n"
     ]
    },
    {
     "name": "stdout",
     "output_type": "stream",
     "text": [
      "Product Name: AMERICAN PROFESSIONAL II PRECISION BASS®\n",
      "Product Model: 0193932700\n",
      "Dealer Cost: \n",
      "Product Price: 2,399.99\n",
      "UPC: 885978579341\n",
      "https://www.fmicassets.com/Damroot/Med/10001/0193932700_fen_ins_frt_1_rr.png\n",
      "Product Description: The American Professional II Precision Bass® draws from more than sixty years of innovation, inspiration and evolution to meet the demands of today’s working player.\n",
      "The ’63 P Bass profile neck now sports smooth rolled fingerboard edges, a “Super-Natural” satin finish and a newly sculpted neck heel for a supremely comfortable feel and easy access to the upper register. The new V-Mod II Precision Bass split-coil pickup is more articulate than ever while delivering the punch and growl the P Bass® is known for.\n",
      "The American Pro II Precision Bass delivers instant familiarity and sonic versatility you’ll feel and hear right away, with broad ranging improvements that add up to nothing less than a new standard for professional instruments.\n"
     ]
    },
    {
     "name": "stderr",
     "output_type": "stream",
     "text": [
      "C:\\Users\\AYNM\\AppData\\Local\\Temp\\ipykernel_17712\\909244397.py:54: FutureWarning: The frame.append method is deprecated and will be removed from pandas in a future version. Use pandas.concat instead.\n",
      "  df = df.append({'Product Name': product_name.text, 'Product Model': model_no, 'Product MAP Price': map_price, 'Product Cost': dealer_cost, 'UPC': upc, 'Product Description': description, 'Product Image URL': image_url}, ignore_index=True)\n"
     ]
    },
    {
     "name": "stdout",
     "output_type": "stream",
     "text": [
      "Product Name: AMERICAN PROFESSIONAL II PRECISION BASS®\n",
      "Product Model: 0193932706\n",
      "Dealer Cost: \n",
      "Product Price: 2,399.99\n",
      "UPC: 885978579297\n",
      "https://www.fmicassets.com/Damroot/Med/10001/0193932706_fen_ins_frt_1_rr.png\n",
      "Product Description: The American Professional II Precision Bass® draws from more than sixty years of innovation, inspiration and evolution to meet the demands of today’s working player.\n",
      "The ’63 P Bass profile neck now sports smooth rolled fingerboard edges, a “Super-Natural” satin finish and a newly sculpted neck heel for a supremely comfortable feel and easy access to the upper register. The new V-Mod II Precision Bass split-coil pickup is more articulate than ever while delivering the punch and growl the P Bass® is known for.\n",
      "The American Pro II Precision Bass delivers instant familiarity and sonic versatility you’ll feel and hear right away, with broad ranging improvements that add up to nothing less than a new standard for professional instruments.\n"
     ]
    },
    {
     "name": "stderr",
     "output_type": "stream",
     "text": [
      "C:\\Users\\AYNM\\AppData\\Local\\Temp\\ipykernel_17712\\909244397.py:54: FutureWarning: The frame.append method is deprecated and will be removed from pandas in a future version. Use pandas.concat instead.\n",
      "  df = df.append({'Product Name': product_name.text, 'Product Model': model_no, 'Product MAP Price': map_price, 'Product Cost': dealer_cost, 'UPC': upc, 'Product Description': description, 'Product Image URL': image_url}, ignore_index=True)\n"
     ]
    },
    {
     "name": "stdout",
     "output_type": "stream",
     "text": [
      "Product Name: AMERICAN PROFESSIONAL II PRECISION BASS®\n",
      "Product Model: 0193930755\n",
      "Dealer Cost: \n",
      "Product Price: 2,399.99\n",
      "UPC: 885978579143\n",
      "https://www.fmicassets.com/Damroot/Med/10001/0193930755_fen_ins_frt_1_rr.png\n",
      "Product Description: The American Professional II Precision Bass® draws from more than sixty years of innovation, inspiration and evolution to meet the demands of today’s working player.\n",
      "The ’63 P Bass profile neck now sports smooth rolled fingerboard edges, a “Super-Natural” satin finish and a newly sculpted neck heel for a supremely comfortable feel and easy access to the upper register. The new V-Mod II Precision Bass split-coil pickup is more articulate than ever while delivering the punch and growl the P Bass® is known for.\n",
      "The American Pro II Precision Bass delivers instant familiarity and sonic versatility you’ll feel and hear right away, with broad ranging improvements that add up to nothing less than a new standard for professional instruments.\n"
     ]
    },
    {
     "name": "stderr",
     "output_type": "stream",
     "text": [
      "C:\\Users\\AYNM\\AppData\\Local\\Temp\\ipykernel_17712\\909244397.py:54: FutureWarning: The frame.append method is deprecated and will be removed from pandas in a future version. Use pandas.concat instead.\n",
      "  df = df.append({'Product Name': product_name.text, 'Product Model': model_no, 'Product MAP Price': map_price, 'Product Cost': dealer_cost, 'UPC': upc, 'Product Description': description, 'Product Image URL': image_url}, ignore_index=True)\n"
     ]
    },
    {
     "name": "stdout",
     "output_type": "stream",
     "text": [
      "Product Name: AMERICAN PROFESSIONAL II PRECISION BASS®\n",
      "Product Model: 0193930718\n",
      "Dealer Cost: \n",
      "Product Price: 2,399.99\n",
      "UPC: 885978657575\n",
      "https://www.fmicassets.com/Damroot/Med/10001/0193930718_fen_ins_frt_1_rr.png\n",
      "Product Description: The American Professional II Precision Bass® draws from more than sixty years of innovation, inspiration and evolution to meet the demands of today’s working player.\n",
      "The ’63 P Bass profile neck now sports smooth rolled fingerboard edges, a “Super-Natural” satin finish and a newly sculpted neck heel for a supremely comfortable feel and easy access to the upper register. The new V-Mod II Precision Bass split-coil pickup is more articulate than ever while delivering the punch and growl the P Bass® is known for.\n",
      "The American Pro II Precision Bass delivers instant familiarity and sonic versatility you’ll feel and hear right away, with broad ranging improvements that add up to nothing less than a new standard for professional instruments.\n"
     ]
    },
    {
     "name": "stderr",
     "output_type": "stream",
     "text": [
      "C:\\Users\\AYNM\\AppData\\Local\\Temp\\ipykernel_17712\\909244397.py:54: FutureWarning: The frame.append method is deprecated and will be removed from pandas in a future version. Use pandas.concat instead.\n",
      "  df = df.append({'Product Name': product_name.text, 'Product Model': model_no, 'Product MAP Price': map_price, 'Product Cost': dealer_cost, 'UPC': upc, 'Product Description': description, 'Product Image URL': image_url}, ignore_index=True)\n"
     ]
    },
    {
     "name": "stdout",
     "output_type": "stream",
     "text": [
      "Product Name: AMERICAN PROFESSIONAL II PRECISION BASS®\n",
      "Product Model: 0193930761\n",
      "Dealer Cost: \n",
      "Product Price: 2,399.99\n",
      "UPC: 885978579150\n",
      "https://www.fmicassets.com/Damroot/Med/10001/0193930761_fen_ins_frt_1_rr.png\n",
      "Product Description: The American Professional II Precision Bass® draws from more than sixty years of innovation, inspiration and evolution to meet the demands of today’s working player.\n",
      "The ’63 P Bass profile neck now sports smooth rolled fingerboard edges, a “Super-Natural” satin finish and a newly sculpted neck heel for a supremely comfortable feel and easy access to the upper register. The new V-Mod II Precision Bass split-coil pickup is more articulate than ever while delivering the punch and growl the P Bass® is known for.\n",
      "The American Pro II Precision Bass delivers instant familiarity and sonic versatility you’ll feel and hear right away, with broad ranging improvements that add up to nothing less than a new standard for professional instruments.\n"
     ]
    },
    {
     "name": "stderr",
     "output_type": "stream",
     "text": [
      "C:\\Users\\AYNM\\AppData\\Local\\Temp\\ipykernel_17712\\909244397.py:54: FutureWarning: The frame.append method is deprecated and will be removed from pandas in a future version. Use pandas.concat instead.\n",
      "  df = df.append({'Product Name': product_name.text, 'Product Model': model_no, 'Product MAP Price': map_price, 'Product Cost': dealer_cost, 'UPC': upc, 'Product Description': description, 'Product Image URL': image_url}, ignore_index=True)\n"
     ]
    },
    {
     "name": "stdout",
     "output_type": "stream",
     "text": [
      "Product Name: AMERICAN PROFESSIONAL II PRECISION BASS®\n",
      "Product Model: 0193930705\n",
      "Dealer Cost: \n",
      "Product Price: 2,399.99\n",
      "UPC: 885978579112\n",
      "https://www.fmicassets.com/Damroot/Med/10001/0193930705_fen_ins_frt_1_rr.png\n",
      "Product Description: The American Professional II Precision Bass® draws from more than sixty years of innovation, inspiration and evolution to meet the demands of today’s working player.\n",
      "The ’63 P Bass profile neck now sports smooth rolled fingerboard edges, a “Super-Natural” satin finish and a newly sculpted neck heel for a supremely comfortable feel and easy access to the upper register. The new V-Mod II Precision Bass split-coil pickup is more articulate than ever while delivering the punch and growl the P Bass® is known for.\n",
      "The American Pro II Precision Bass delivers instant familiarity and sonic versatility you’ll feel and hear right away, with broad ranging improvements that add up to nothing less than a new standard for professional instruments.\n"
     ]
    },
    {
     "name": "stderr",
     "output_type": "stream",
     "text": [
      "C:\\Users\\AYNM\\AppData\\Local\\Temp\\ipykernel_17712\\909244397.py:54: FutureWarning: The frame.append method is deprecated and will be removed from pandas in a future version. Use pandas.concat instead.\n",
      "  df = df.append({'Product Name': product_name.text, 'Product Model': model_no, 'Product MAP Price': map_price, 'Product Cost': dealer_cost, 'UPC': upc, 'Product Description': description, 'Product Image URL': image_url}, ignore_index=True)\n"
     ]
    },
    {
     "name": "stdout",
     "output_type": "stream",
     "text": [
      "Product Name: AMERICAN PROFESSIONAL II PRECISION BASS®\n",
      "Product Model: 0193930700\n",
      "Dealer Cost: \n",
      "Product Price: 2,399.99\n",
      "UPC: 885978436217\n",
      "https://www.fmicassets.com/Damroot/Med/10001/0193930700_fen_ins_frt_1_rr.png\n",
      "Product Description: The American Professional II Precision Bass® draws from more than sixty years of innovation, inspiration and evolution to meet the demands of today’s working player.\n",
      "The ’63 P Bass profile neck now sports smooth rolled fingerboard edges, a “Super-Natural” satin finish and a newly sculpted neck heel for a supremely comfortable feel and easy access to the upper register. The new V-Mod II Precision Bass split-coil pickup is more articulate than ever while delivering the punch and growl the P Bass® is known for.\n",
      "The American Pro II Precision Bass delivers instant familiarity and sonic versatility you’ll feel and hear right away, with broad ranging improvements that add up to nothing less than a new standard for professional instruments.\n"
     ]
    },
    {
     "name": "stderr",
     "output_type": "stream",
     "text": [
      "C:\\Users\\AYNM\\AppData\\Local\\Temp\\ipykernel_17712\\909244397.py:54: FutureWarning: The frame.append method is deprecated and will be removed from pandas in a future version. Use pandas.concat instead.\n",
      "  df = df.append({'Product Name': product_name.text, 'Product Model': model_no, 'Product MAP Price': map_price, 'Product Cost': dealer_cost, 'UPC': upc, 'Product Description': description, 'Product Image URL': image_url}, ignore_index=True)\n"
     ]
    }
   ],
   "source": [
    "# search products\n",
    "for product in product_list:\n",
    "    if product == 'nan':\n",
    "        continue\n",
    "    search_input = WebDriverWait(driver, 10).until(EC.element_to_be_clickable((By.CSS_SELECTOR, 'input[id=\"search-fld\"]')))\n",
    "    search_input.clear()\n",
    "    search_input.send_keys(product)\n",
    "    search_input.send_keys(Keys.RETURN)\n",
    "\n",
    "\n",
    "    upc_span = WebDriverWait(driver, 10).until(EC.element_to_be_clickable((By.CSS_SELECTOR, 'span[name=\"imageView_upc\"]')))\n",
    "    upc = upc_span.text\n",
    "    \n",
    "    try:\n",
    "        dealer_cost_span = WebDriverWait(driver, 10).until(EC.element_to_be_clickable((By.CSS_SELECTOR, 'span[name=\"imageView_dealerNet\"]')))\n",
    "        dealer_cost = dealer_cost_span.text.split('$')[1]\n",
    "    except:\n",
    "        dealer_cost = ''\n",
    "\n",
    "    try:\n",
    "        map_price_span = driver.find_element(By.CSS_SELECTOR, 'span[name=\"imageView_map\"]')\n",
    "        map_price = map_price_span.text.split('$')[1]\n",
    "    except:\n",
    "        map_price = ''\n",
    "    \n",
    "    model_no_span = WebDriverWait(driver, 10).until(EC.element_to_be_clickable((By.CSS_SELECTOR, 'span[name=\"imageView_modelNo\"]')))\n",
    "\n",
    "    model_no = model_no_span.text\n",
    "\n",
    "    product_name = WebDriverWait(driver, 10).until(EC.element_to_be_clickable((By.CSS_SELECTOR, 'h3[name=\"imageView_name\"]')))\n",
    "    print(f'Product Name: {product_name.text}')\n",
    "    print(f'Product Model: {model_no}')\n",
    "    print(f'Dealer Cost: {dealer_cost}')\n",
    "    print(f'Product Price: {map_price}')\n",
    "    print(f'UPC: {upc}')\n",
    "\n",
    "    img_element = WebDriverWait(driver, 10).until(EC.element_to_be_clickable((By.XPATH, \"//div[@class='product-image-container']/img[1]\")))\n",
    "    image_url = img_element.get_attribute('src')\n",
    "    print(image_url)\n",
    "    # dealer cost (span) (USD): name=\"imageView_dealerNet\"\n",
    "    # MAP price (span) (CAD): name=\"imageView_map\"\n",
    "    # model#/sku: (span) name=\"imageView_modelNo\"\n",
    "    # product name: (H3) name=\"imageView_name\"\n",
    "    # description: (div) class=\"description-column\" .show_more_box.div.div.p\n",
    "    # image url: (div) class=\"product-image-container\" .img.src\n",
    "    \n",
    "    try:\n",
    "        description_element = driver.find_element(By.XPATH, \"//div[@class='description-column']/show-more-box/div/div[1]\")\n",
    "        description = description_element.text\n",
    "    except:\n",
    "        description = 'No description available'\n",
    "    \n",
    "    print(f'Product Description: {description}')\n",
    "    df = df.append({'Product Name': product_name.text, 'Product Model': model_no, 'Product MAP Price': map_price, 'Product Cost': dealer_cost, 'UPC': upc, 'Product Description': description, 'Product Image URL': image_url}, ignore_index=True)"
   ]
  },
  {
   "cell_type": "code",
   "execution_count": 71,
   "metadata": {},
   "outputs": [
    {
     "name": "stdout",
     "output_type": "stream",
     "text": [
      "Results saved to CSV file\n",
      "\n",
      "Results:\n",
      "                                    Product Name Product Model  \\\n",
      "0              AMERICAN ORIGINAL '60S JAZZ BASS®    0190130800   \n",
      "1              AMERICAN ORIGINAL '60S JAZZ BASS®    0190130809   \n",
      "2              AMERICAN ORIGINAL '60S JAZZ BASS®    0190130872   \n",
      "3              AMERICAN ORIGINAL '70S JAZZ BASS®    0190142800   \n",
      "4              AMERICAN ORIGINAL '70S JAZZ BASS®    0190142821   \n",
      "5              AMERICAN ORIGINAL '70S JAZZ BASS®    0190142841   \n",
      "6          AMERICAN PROFESSIONAL II JAZZ BASS® V    0193992763   \n",
      "7          AMERICAN PROFESSIONAL II JAZZ BASS® V    0193992718   \n",
      "8          AMERICAN PROFESSIONAL II JAZZ BASS® V    0193990705   \n",
      "9          AMERICAN PROFESSIONAL II JAZZ BASS® V    0193990700   \n",
      "10           AMERICAN PROFESSIONAL II JAZZ BASS®    0193970700   \n",
      "11           AMERICAN PROFESSIONAL II JAZZ BASS®    0193970705   \n",
      "12           AMERICAN PROFESSIONAL II JAZZ BASS®    0193970755   \n",
      "13           AMERICAN PROFESSIONAL II JAZZ BASS®    0193970706   \n",
      "14           AMERICAN PROFESSIONAL II JAZZ BASS®    0193972761   \n",
      "15           AMERICAN PROFESSIONAL II JAZZ BASS®    0193972705   \n",
      "16           AMERICAN PROFESSIONAL II JAZZ BASS®    0193972718   \n",
      "17           AMERICAN PROFESSIONAL II JAZZ BASS®    0193972700   \n",
      "18           AMERICAN PROFESSIONAL II JAZZ BASS®    0193972763   \n",
      "19           AMERICAN PROFESSIONAL II JAZZ BASS®    0193970719   \n",
      "20        AMERICAN ORIGINAL '60S PRECISION BASS®    0190120802   \n",
      "21        AMERICAN ORIGINAL '60S PRECISION BASS®    0190120857   \n",
      "22        AMERICAN ORIGINAL '60S PRECISION BASS®    0190120800   \n",
      "23              AMERICAN PERFORMER MUSTANG® BASS    0198620380   \n",
      "24              AMERICAN PERFORMER MUSTANG® BASS    0198620357   \n",
      "25              AMERICAN PERFORMER MUSTANG® BASS    0198620345   \n",
      "26              AMERICAN PERFORMER MUSTANG® BASS    0198620300   \n",
      "27                 AMERICAN PERFORMER JAZZ BASS®    0198610380   \n",
      "28                 AMERICAN PERFORMER JAZZ BASS®    0198610380   \n",
      "29                 AMERICAN PERFORMER JAZZ BASS®    0198610380   \n",
      "30  AMERICAN PROFESSIONAL II JAZZ BASS® FRETLESS    0194000761   \n",
      "31  AMERICAN PROFESSIONAL II JAZZ BASS® FRETLESS    0194000700   \n",
      "32  AMERICAN PROFESSIONAL II JAZZ BASS® FRETLESS    0194000705   \n",
      "33      AMERICAN PROFESSIONAL II PRECISION BASS®    0193932719   \n",
      "34      AMERICAN PROFESSIONAL II PRECISION BASS®    0193932705   \n",
      "35      AMERICAN PROFESSIONAL II PRECISION BASS®    0193932700   \n",
      "36      AMERICAN PROFESSIONAL II PRECISION BASS®    0193932706   \n",
      "37      AMERICAN PROFESSIONAL II PRECISION BASS®    0193930755   \n",
      "38      AMERICAN PROFESSIONAL II PRECISION BASS®    0193930718   \n",
      "39      AMERICAN PROFESSIONAL II PRECISION BASS®    0193930761   \n",
      "40      AMERICAN PROFESSIONAL II PRECISION BASS®    0193930705   \n",
      "41      AMERICAN PROFESSIONAL II PRECISION BASS®    0193930700   \n",
      "\n",
      "   Product List Price Product MAP Price Product Cost  \\\n",
      "0                 NaN                                  \n",
      "1                 NaN          2,749.99                \n",
      "2                 NaN          2,749.99                \n",
      "3                 NaN                                  \n",
      "4                 NaN                                  \n",
      "5                 NaN          3,069.99                \n",
      "6                 NaN          2,759.99                \n",
      "7                 NaN          2,619.99                \n",
      "8                 NaN          2,619.99                \n",
      "9                 NaN          2,619.99                \n",
      "10                NaN          2,479.99                \n",
      "11                NaN          2,479.99                \n",
      "12                NaN          2,479.99                \n",
      "13                NaN          2,479.99                \n",
      "14                NaN          2,479.99                \n",
      "15                NaN          2,479.99                \n",
      "16                NaN          2,479.99                \n",
      "17                NaN          2,479.99                \n",
      "18                NaN          2,619.99                \n",
      "19                NaN          2,479.99                \n",
      "20                NaN          2,689.99                \n",
      "21                NaN          2,689.99                \n",
      "22                NaN                                  \n",
      "23                NaN          2,069.99                \n",
      "24                NaN          2,069.99                \n",
      "25                NaN          2,069.99                \n",
      "26                NaN          2,069.99                \n",
      "27                NaN          2,069.99                \n",
      "28                NaN          2,069.99                \n",
      "29                NaN          2,069.99                \n",
      "30                NaN          2,479.99                \n",
      "31                NaN          2,479.99                \n",
      "32                NaN          2,479.99                \n",
      "33                NaN          2,399.99                \n",
      "34                NaN          2,399.99                \n",
      "35                NaN          2,399.99                \n",
      "36                NaN          2,399.99                \n",
      "37                NaN          2,399.99                \n",
      "38                NaN          2,399.99                \n",
      "39                NaN          2,399.99                \n",
      "40                NaN          2,399.99                \n",
      "41                NaN          2,399.99                \n",
      "\n",
      "                                  Product Description  \\\n",
      "0   Released in 1960, the upscale Jazz Bass quickl...   \n",
      "1   Released in 1960, the upscale Jazz Bass quickl...   \n",
      "2   Released in 1960, the upscale Jazz Bass quickl...   \n",
      "3   Over the course of the ‘70s, the Jazz Bass ent...   \n",
      "4   Over the course of the ‘70s, the Jazz Bass ent...   \n",
      "5   Over the course of the ‘70s, the Jazz Bass ent...   \n",
      "6   The American Professional II Jazz Bass® V draw...   \n",
      "7   The American Professional II Jazz Bass® V draw...   \n",
      "8   The American Professional II Jazz Bass® V draw...   \n",
      "9   The American Professional II Jazz Bass® V draw...   \n",
      "10  The American Professional II Jazz Bass® draws ...   \n",
      "11  The American Professional II Jazz Bass® draws ...   \n",
      "12  The American Professional II Jazz Bass® draws ...   \n",
      "13  The American Professional II Jazz Bass® draws ...   \n",
      "14  The American Professional II Jazz Bass® draws ...   \n",
      "15  The American Professional II Jazz Bass® draws ...   \n",
      "16  The American Professional II Jazz Bass® draws ...   \n",
      "17  The American Professional II Jazz Bass® draws ...   \n",
      "18  The American Professional II Jazz Bass® draws ...   \n",
      "19  The American Professional II Jazz Bass® draws ...   \n",
      "20  By the 1960s, the Precision Bass was the workh...   \n",
      "21  By the 1960s, the Precision Bass was the workh...   \n",
      "22  By the 1960s, the Precision Bass was the workh...   \n",
      "23  Born in Corona, California, the short-scale Am...   \n",
      "24  Born in Corona, California, the short-scale Am...   \n",
      "25  Born in Corona, California, the short-scale Am...   \n",
      "26  Born in Corona, California, the short-scale Am...   \n",
      "27  Crafted in Corona, California, the American Ja...   \n",
      "28  Crafted in Corona, California, the American Ja...   \n",
      "29  Crafted in Corona, California, the American Ja...   \n",
      "30  The American Professional II Jazz Bass® Fretle...   \n",
      "31  The American Professional II Jazz Bass® Fretle...   \n",
      "32  The American Professional II Jazz Bass® Fretle...   \n",
      "33  The American Professional II Precision Bass® d...   \n",
      "34  The American Professional II Precision Bass® d...   \n",
      "35  The American Professional II Precision Bass® d...   \n",
      "36  The American Professional II Precision Bass® d...   \n",
      "37  The American Professional II Precision Bass® d...   \n",
      "38  The American Professional II Precision Bass® d...   \n",
      "39  The American Professional II Precision Bass® d...   \n",
      "40  The American Professional II Precision Bass® d...   \n",
      "41  The American Professional II Precision Bass® d...   \n",
      "\n",
      "                                    Product Image URL           UPC  \n",
      "0   https://www.fmicassets.com/Damroot/Med/10001/0...  885978821068  \n",
      "1   https://www.fmicassets.com/Damroot/Med/10001/0...  885978841141  \n",
      "2   https://www.fmicassets.com/Damroot/Med/10001/0...  885978290932  \n",
      "3   https://www.fmicassets.com/Damroot/Med/10001/0...  885978821594  \n",
      "4   https://www.fmicassets.com/Damroot/Med/10002/0...  885978821570  \n",
      "5   https://www.fmicassets.com/Damroot/Med/10001/0...  885978291014  \n",
      "6   https://www.fmicassets.com/Damroot/Med/10001/0...  885978579952  \n",
      "7   https://www.fmicassets.com/Damroot/Med/10001/0...  885978657551  \n",
      "8   https://www.fmicassets.com/Damroot/Med/10001/0...  885978579839  \n",
      "9   https://www.fmicassets.com/Damroot/Med/10001/0...  885978436286  \n",
      "10  https://www.fmicassets.com/Damroot/Med/10001/0...  885978436248  \n",
      "11  https://www.fmicassets.com/Damroot/Med/10001/0...  885978579976  \n",
      "12  https://www.fmicassets.com/Damroot/Med/10001/0...  885978580057  \n",
      "13  https://www.fmicassets.com/Damroot/Med/10001/0...  885978580101  \n",
      "14  https://www.fmicassets.com/Damroot/Med/10001/0...  885978580187  \n",
      "15  https://www.fmicassets.com/Damroot/Med/10001/0...  885978580149  \n",
      "16  https://www.fmicassets.com/Damroot/Med/10001/0...  885978580163  \n",
      "17  https://www.fmicassets.com/Damroot/Med/10001/0...  885978603145  \n",
      "18  https://www.fmicassets.com/Damroot/Med/10001/0...  885978580125  \n",
      "19  https://www.fmicassets.com/Damroot/Med/10001/0...  885978657490  \n",
      "20  https://www.fmicassets.com/Damroot/Med/10001/0...  885978841134  \n",
      "21  https://www.fmicassets.com/Damroot/Med/10001/0...  885978290925  \n",
      "22  https://www.fmicassets.com/Damroot/Med/10001/0...  885978821037  \n",
      "23  https://www.fmicassets.com/Damroot/Med/10001/0...  885978952892  \n",
      "24  https://www.fmicassets.com/Damroot/Med/10001/0...  885978981564  \n",
      "25  https://www.fmicassets.com/Damroot/Med/10001/0...  885978952908  \n",
      "26  https://www.fmicassets.com/Damroot/Med/10001/0...  885978952885  \n",
      "27  https://www.fmicassets.com/Damroot/Med/10001/0...  885978952861  \n",
      "28  https://www.fmicassets.com/Damroot/Med/10001/0...  885978952861  \n",
      "29  https://www.fmicassets.com/Damroot/Med/10001/0...  885978952861  \n",
      "30  https://www.fmicassets.com/Damroot/Med/10001/0...  885978580217  \n",
      "31  https://www.fmicassets.com/Damroot/Med/10001/0...  885978436293  \n",
      "32  https://www.fmicassets.com/Damroot/Med/10001/0...  885978580200  \n",
      "33  https://www.fmicassets.com/Damroot/Med/10001/0...  885978657582  \n",
      "34  https://www.fmicassets.com/Damroot/Med/10001/0...  885978579266  \n",
      "35  https://www.fmicassets.com/Damroot/Med/10001/0...  885978579341  \n",
      "36  https://www.fmicassets.com/Damroot/Med/10001/0...  885978579297  \n",
      "37  https://www.fmicassets.com/Damroot/Med/10001/0...  885978579143  \n",
      "38  https://www.fmicassets.com/Damroot/Med/10001/0...  885978657575  \n",
      "39  https://www.fmicassets.com/Damroot/Med/10001/0...  885978579150  \n",
      "40  https://www.fmicassets.com/Damroot/Med/10001/0...  885978579112  \n",
      "41  https://www.fmicassets.com/Damroot/Med/10001/0...  885978436217  \n",
      "Number of products found: 42\n",
      "\n",
      "Number of products not found: 0\n",
      "\n"
     ]
    }
   ],
   "source": [
    "# save dataframe to CSV file\n",
    "df.to_csv(output_file, index=False)\n",
    "print('Results saved to CSV file\\n')\n",
    "\n",
    "print('Results:')\n",
    "print(df)\n",
    "\n",
    "print(f'Number of products found: {len(df)}\\n')\n",
    "print(f'Number of products not found: {products_not_found}\\n')\n",
    "if products_not_found > 0:\n",
    "    print('Products not found:')\n",
    "    for product in products_not_found_list:\n",
    "        print(f'\\t{product}')\n",
    "\n",
    "# close browser\n",
    "driver.close()\n",
    "driver.quit()"
   ]
  }
 ],
 "metadata": {
  "kernelspec": {
   "display_name": "Python 3",
   "language": "python",
   "name": "python3"
  },
  "language_info": {
   "codemirror_mode": {
    "name": "ipython",
    "version": 3
   },
   "file_extension": ".py",
   "mimetype": "text/x-python",
   "name": "python",
   "nbconvert_exporter": "python",
   "pygments_lexer": "ipython3",
   "version": "3.11.1"
  },
  "orig_nbformat": 4,
  "vscode": {
   "interpreter": {
    "hash": "22483d8b1f965d2452c1b511f44a4bd7e49889fc595967579bd60fcd72e140d1"
   }
  }
 },
 "nbformat": 4,
 "nbformat_minor": 2
}

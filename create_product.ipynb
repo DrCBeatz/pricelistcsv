{
 "cells": [
  {
   "attachments": {},
   "cell_type": "markdown",
   "metadata": {},
   "source": [
    "Create Shopify product list from webscraped list of products"
   ]
  },
  {
   "cell_type": "code",
   "execution_count": 27,
   "metadata": {},
   "outputs": [],
   "source": [
    "import pandas as pd\n",
    "\n",
    "# define file names\n",
    "template_file = 'example_product.csv'\n",
    "product_list_file = 'cosmo_webscrape.csv'\n",
    "output_file = 'products_output.csv'"
   ]
  },
  {
   "cell_type": "code",
   "execution_count": null,
   "metadata": {},
   "outputs": [],
   "source": [
    "# Load Shopify product template\n",
    "\n",
    "product_template = pd.read_csv(template_file)\n",
    "product_template.head()"
   ]
  },
  {
   "cell_type": "code",
   "execution_count": 25,
   "metadata": {},
   "outputs": [
    {
     "data": {
      "text/html": [
       "<div>\n",
       "<style scoped>\n",
       "    .dataframe tbody tr th:only-of-type {\n",
       "        vertical-align: middle;\n",
       "    }\n",
       "\n",
       "    .dataframe tbody tr th {\n",
       "        vertical-align: top;\n",
       "    }\n",
       "\n",
       "    .dataframe thead th {\n",
       "        text-align: right;\n",
       "    }\n",
       "</style>\n",
       "<table border=\"1\" class=\"dataframe\">\n",
       "  <thead>\n",
       "    <tr style=\"text-align: right;\">\n",
       "      <th></th>\n",
       "      <th>Product Name</th>\n",
       "      <th>Product Model</th>\n",
       "      <th>Product Price</th>\n",
       "      <th>UPC</th>\n",
       "      <th>Product Description</th>\n",
       "      <th>Product Image URL</th>\n",
       "    </tr>\n",
       "  </thead>\n",
       "  <tbody>\n",
       "    <tr>\n",
       "      <th>0</th>\n",
       "      <td>Shure SM57-LC Dynamic Cardioid Instrument Micr...</td>\n",
       "      <td>SM57-LC</td>\n",
       "      <td>$119.00</td>\n",
       "      <td>42406051316</td>\n",
       "      <td>Shure SM57-LC, Dynamic Instrument Microphone, ...</td>\n",
       "      <td>https://cosmomusic.ca/product_images/shure-sm5...</td>\n",
       "    </tr>\n",
       "    <tr>\n",
       "      <th>1</th>\n",
       "      <td>Shure SM58-LC Dynamic Cardioid Vocal Microphone</td>\n",
       "      <td>SM58-LC</td>\n",
       "      <td>$119.00</td>\n",
       "      <td>42406051293</td>\n",
       "      <td>Shure SM58-LC, Dynamic Vocal Microphone, Cardi...</td>\n",
       "      <td>https://cosmomusic.ca/product_images/shure-sm5...</td>\n",
       "    </tr>\n",
       "    <tr>\n",
       "      <th>2</th>\n",
       "      <td>Casio Privia PX-S1100 88-Key Digital Piano - B...</td>\n",
       "      <td>PX-S1100</td>\n",
       "      <td>$899.99</td>\n",
       "      <td>79767362621</td>\n",
       "      <td>No description available</td>\n",
       "      <td>https://cosmomusic.ca/product_images/piano-dig...</td>\n",
       "    </tr>\n",
       "  </tbody>\n",
       "</table>\n",
       "</div>"
      ],
      "text/plain": [
       "                                        Product Name Product Model  \\\n",
       "0  Shure SM57-LC Dynamic Cardioid Instrument Micr...       SM57-LC   \n",
       "1    Shure SM58-LC Dynamic Cardioid Vocal Microphone       SM58-LC   \n",
       "2  Casio Privia PX-S1100 88-Key Digital Piano - B...      PX-S1100   \n",
       "\n",
       "  Product Price          UPC  \\\n",
       "0       $119.00  42406051316   \n",
       "1       $119.00  42406051293   \n",
       "2       $899.99  79767362621   \n",
       "\n",
       "                                 Product Description  \\\n",
       "0  Shure SM57-LC, Dynamic Instrument Microphone, ...   \n",
       "1  Shure SM58-LC, Dynamic Vocal Microphone, Cardi...   \n",
       "2                           No description available   \n",
       "\n",
       "                                   Product Image URL  \n",
       "0  https://cosmomusic.ca/product_images/shure-sm5...  \n",
       "1  https://cosmomusic.ca/product_images/shure-sm5...  \n",
       "2  https://cosmomusic.ca/product_images/piano-dig...  "
      ]
     },
     "execution_count": 25,
     "metadata": {},
     "output_type": "execute_result"
    }
   ],
   "source": [
    "# Read list of web scraped products to create\n",
    "\n",
    "product_list = pd.read_csv(product_list_file)\n",
    "product_list.head()"
   ]
  },
  {
   "cell_type": "code",
   "execution_count": 20,
   "metadata": {},
   "outputs": [],
   "source": [
    "# Create empty Shopify product list using columns from template\n",
    "\n",
    "new_product_list = pd.DataFrame(columns=product_template.columns)"
   ]
  },
  {
   "cell_type": "code",
   "execution_count": 21,
   "metadata": {},
   "outputs": [],
   "source": [
    "# iterate through each row in product_list and append to new_product_list\n",
    "\n",
    "for index, row in product_list.iterrows():\n",
    "    new_product_list = new_product_list.append(product_template, ignore_index=True)\n",
    "    new_product_list.loc[index, 'Handle'] = row['Product Name'].lower().replace(' ', '-')\n",
    "    new_product_list.loc[index, 'Title'] = row['Product Name']\n",
    "    new_product_list.loc[index, 'Body (HTML)'] = row['Product Description']\n",
    "    new_product_list.loc[index, 'Variant Price'] = row['Product Price']\n",
    "    new_product_list.loc[index, 'Vendor'] = row['Product Name'].split(' ')[0]\n",
    "    new_product_list.loc[index, 'Variant SKU'] = row['Product Model']\n",
    "    new_product_list.loc[index, 'Variant Barcode'] = row['UPC']\n",
    "\n"
   ]
  },
  {
   "cell_type": "code",
   "execution_count": 28,
   "metadata": {},
   "outputs": [],
   "source": [
    "# Save new_product_list to csv\n",
    "\n",
    "new_product_list.to_csv(output_file, index=False)"
   ]
  }
 ],
 "metadata": {
  "kernelspec": {
   "display_name": "base",
   "language": "python",
   "name": "python3"
  },
  "language_info": {
   "codemirror_mode": {
    "name": "ipython",
    "version": 3
   },
   "file_extension": ".py",
   "mimetype": "text/x-python",
   "name": "python",
   "nbconvert_exporter": "python",
   "pygments_lexer": "ipython3",
   "version": "3.7.15"
  },
  "orig_nbformat": 4,
  "vscode": {
   "interpreter": {
    "hash": "40d3a090f54c6569ab1632332b64b2c03c39dcf918b08424e98f38b5ae0af88f"
   }
  }
 },
 "nbformat": 4,
 "nbformat_minor": 2
}

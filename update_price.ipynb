{
 "cells": [
  {
   "cell_type": "code",
   "execution_count": 5,
   "metadata": {},
   "outputs": [],
   "source": [
    "import pandas as pd\n",
    "import numpy as np\n",
    "import re\n",
    "\n",
    "product_list_csv = 'alabama_product_list.csv'\n",
    "price_list_csv = 'alabama_output_discounted.csv'\n",
    "output_file = 'alabama_product_list_updated.csv'\n",
    "product_list = pd.read_csv(product_list_csv)\n",
    "price_list = pd.read_csv(price_list_csv)\n",
    "\n",
    "PRODUCT_LIST_SEARCH_FIELD = 'Variant SKU'\n",
    "PRICE_LIST_SEARCH_FIELD = 'Product Model'\n",
    "PRODUCT_LIST_REPLACE_FIELD_1 = 'Variant Price'\n",
    "PRICE_LIST_REPLACE_FIELD_1 = 'Price'\n",
    "PRODUCT_LIST_REPLACE_FIELD_2 = 'Cost per item'\n",
    "PRICE_LIST_REPLACE_FIELD_2 = 'Product Cost'\n",
    "\n",
    "try:\n",
    "    for _, upc_list_row in price_list.iterrows():\n",
    "            product_list.loc[product_list[PRODUCT_LIST_SEARCH_FIELD] == upc_list_row[PRICE_LIST_SEARCH_FIELD], PRODUCT_LIST_REPLACE_FIELD_1] = upc_list_row[PRICE_LIST_REPLACE_FIELD_1]\n",
    "            product_list.loc[product_list[PRODUCT_LIST_SEARCH_FIELD] == upc_list_row[PRICE_LIST_SEARCH_FIELD], PRODUCT_LIST_REPLACE_FIELD_2] = upc_list_row[PRICE_LIST_REPLACE_FIELD_2]\n",
    "except:\n",
    "    raise RuntimeError(\"Couldn't update product list\")\n",
    "\n",
    "try:\n",
    "    product_list = product_list.replace(np.nan, '')\n",
    "    product_list['Variant Barcode'] = product_list['Variant Barcode'].astype(str).apply(lambda x: re.sub( r'\\.0$', '', x) )\n",
    "    product_list['Variant SKU'] = product_list['Variant SKU'].astype(str).apply(lambda x: re.sub( r'\\.0$', '', x) )\n",
    "    product_list.to_csv(output_file, index=False)\n",
    "except:\n",
    "    raise RuntimeError(\"Couldn't save csv file\")"
   ]
  },
  {
   "cell_type": "code",
   "execution_count": 9,
   "metadata": {},
   "outputs": [
    {
     "data": {
      "text/plain": [
       "242.991"
      ]
     },
     "execution_count": 9,
     "metadata": {},
     "output_type": "execute_result"
    }
   ],
   "source": [
    "269.99 * .9"
   ]
  },
  {
   "cell_type": "code",
   "execution_count": null,
   "metadata": {},
   "outputs": [],
   "source": []
  }
 ],
 "metadata": {
  "kernelspec": {
   "display_name": "Python 3",
   "language": "python",
   "name": "python3"
  },
  "language_info": {
   "codemirror_mode": {
    "name": "ipython",
    "version": 3
   },
   "file_extension": ".py",
   "mimetype": "text/x-python",
   "name": "python",
   "nbconvert_exporter": "python",
   "pygments_lexer": "ipython3",
   "version": "3.11.1"
  },
  "orig_nbformat": 4,
  "vscode": {
   "interpreter": {
    "hash": "22483d8b1f965d2452c1b511f44a4bd7e49889fc595967579bd60fcd72e140d1"
   }
  }
 },
 "nbformat": 4,
 "nbformat_minor": 2
}

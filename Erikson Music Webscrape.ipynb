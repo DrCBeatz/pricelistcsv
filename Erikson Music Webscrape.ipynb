{
 "cells": [
  {
   "cell_type": "code",
   "execution_count": 7,
   "metadata": {},
   "outputs": [],
   "source": [
    "from selenium import webdriver\n",
    "from selenium.webdriver.chrome.options import Options\n",
    "from selenium.webdriver.chrome.service import Service\n",
    "from webdriver_manager.chrome import ChromeDriverManager\n",
    "\n",
    "from selenium.webdriver.common.keys import Keys\n",
    "from selenium.webdriver.support import expected_conditions as EC\n",
    "from selenium.webdriver.common.by import By\n",
    "from selenium.webdriver.support.wait import WebDriverWait\n",
    "options = Options()\n",
    "options.add_argument(\"--no-sandbox\")\n",
    "options.add_argument(\"--disable-infobars\")\n",
    "# options.add_argument(\"--headless\")\n",
    "options.add_argument(\"--disable-gpu\")\n",
    "options.add_experimental_option(\"prefs\", { \\\n",
    "    \"profile.default_content_setting_values.media_stream_mic\": 2,     # 1:allow, 2:block \n",
    "    \"profile.default_content_setting_values.media_stream_camera\": 2,  # 1:allow, 2:block \n",
    "    \"profile.default_content_setting_values.geolocation\": 2,          # 1:allow, 2:block \n",
    "    \"profile.default_content_setting_values.notifications\": 2         # 1:allow, 2:block \n",
    "  })\n",
    "\n",
    "import pandas as pd"
   ]
  },
  {
   "cell_type": "code",
   "execution_count": 2,
   "metadata": {},
   "outputs": [],
   "source": [
    "# declare global variables\n",
    "\n",
    "WAIT_TIME = 10 # seconds\n",
    "\n",
    "# default input & output file names\n",
    "input_file = 'gator_trombone_case.csv'\n",
    "output_file = 'gator_trombone_case_output.csv'\n",
    "url = 'https://eriksonmusiconline.com'\n",
    "\n",
    "username = 'instrumusic@hotmail.com'\n",
    "password = 'Talia4400'"
   ]
  },
  {
   "cell_type": "code",
   "execution_count": 3,
   "metadata": {},
   "outputs": [],
   "source": [
    "import math"
   ]
  },
  {
   "cell_type": "code",
   "execution_count": 5,
   "metadata": {},
   "outputs": [],
   "source": [
    "# create empty dataframe\n",
    "df = pd.DataFrame(columns=['Product Name', 'Product Vendor', 'Product Model', 'Product List Price', 'Product MAP Price', 'Product Cost', 'Product Description', 'Product Image URL'])\n",
    "\n",
    "# product_df = pd.read_csv(input_file)\n",
    "\n",
    "product_list = ['HE448']\n"
   ]
  },
  {
   "cell_type": "code",
   "execution_count": 5,
   "metadata": {},
   "outputs": [],
   "source": [
    "product_list = product_df['Variant SKU'].tolist()\n",
    "\n",
    "product_list = [str(x) for x in product_list]\n",
    "product_list = [x for x in product_list if x != 'nan']"
   ]
  },
  {
   "cell_type": "code",
   "execution_count": 6,
   "metadata": {},
   "outputs": [
    {
     "name": "stdout",
     "output_type": "stream",
     "text": [
      "Scraping data for 1 products:\n",
      "\tGC-TROMBONE-23\n"
     ]
    }
   ],
   "source": [
    "print(f'Scraping data for {len(product_list)} products:')\n",
    "for product in product_list:\n",
    "    print(f'\\t{product}')"
   ]
  },
  {
   "cell_type": "code",
   "execution_count": 6,
   "metadata": {},
   "outputs": [
    {
     "name": "stderr",
     "output_type": "stream",
     "text": [
      "C:\\Users\\AYNM\\AppData\\Local\\Temp\\ipykernel_23732\\600678085.py:1: DeprecationWarning: executable_path has been deprecated, please pass in a Service object\n",
      "  driver = webdriver.Chrome('./chromedriver.exe', chrome_options=options)\n",
      "C:\\Users\\AYNM\\AppData\\Local\\Temp\\ipykernel_23732\\600678085.py:1: DeprecationWarning: use options instead of chrome_options\n",
      "  driver = webdriver.Chrome('./chromedriver.exe', chrome_options=options)\n"
     ]
    },
    {
     "ename": "SessionNotCreatedException",
     "evalue": "Message: session not created: This version of ChromeDriver only supports Chrome version 113\nCurrent browser version is 116.0.5845.141 with binary path C:\\Program Files\\Google\\Chrome\\Application\\chrome.exe\nStacktrace:\nBacktrace:\n\tGetHandleVerifier [0x011E8893+48451]\n\t(No symbol) [0x0117B8A1]\n\t(No symbol) [0x01085058]\n\t(No symbol) [0x010A5D9C]\n\t(No symbol) [0x010A1AA3]\n\t(No symbol) [0x010A0019]\n\t(No symbol) [0x010D0798]\n\t(No symbol) [0x010D047C]\n\t(No symbol) [0x010CA0B6]\n\t(No symbol) [0x010A7E08]\n\t(No symbol) [0x010A8F2D]\n\tGetHandleVerifier [0x01448E3A+2540266]\n\tGetHandleVerifier [0x01488959+2801161]\n\tGetHandleVerifier [0x0148295C+2776588]\n\tGetHandleVerifier [0x01272280+612144]\n\t(No symbol) [0x01184F6C]\n\t(No symbol) [0x011811D8]\n\t(No symbol) [0x011812BB]\n\t(No symbol) [0x01174857]\n\tBaseThreadInitThunk [0x759F7D59+25]\n\tRtlInitializeExceptionChain [0x7733B79B+107]\n\tRtlClearBits [0x7733B71F+191]\n",
     "output_type": "error",
     "traceback": [
      "\u001b[1;31m---------------------------------------------------------------------------\u001b[0m",
      "\u001b[1;31mSessionNotCreatedException\u001b[0m                Traceback (most recent call last)",
      "Cell \u001b[1;32mIn[6], line 1\u001b[0m\n\u001b[1;32m----> 1\u001b[0m driver \u001b[39m=\u001b[39m webdriver\u001b[39m.\u001b[39;49mChrome(\u001b[39m'\u001b[39;49m\u001b[39m./chromedriver.exe\u001b[39;49m\u001b[39m'\u001b[39;49m, chrome_options\u001b[39m=\u001b[39;49moptions)\n\u001b[0;32m      2\u001b[0m \u001b[39mprint\u001b[39m(\u001b[39mf\u001b[39m\u001b[39m'\u001b[39m\u001b[39mOpening \u001b[39m\u001b[39m{\u001b[39;00murl\u001b[39m}\u001b[39;00m\u001b[39m in Chrome browser...\u001b[39m\u001b[39m'\u001b[39m)\n\u001b[0;32m      3\u001b[0m driver\u001b[39m.\u001b[39mget(url)\n",
      "File \u001b[1;32mc:\\Users\\AYNM\\AppData\\Local\\Programs\\Python\\Python311\\Lib\\site-packages\\selenium\\webdriver\\chrome\\webdriver.py:81\u001b[0m, in \u001b[0;36mWebDriver.__init__\u001b[1;34m(self, executable_path, port, options, service_args, desired_capabilities, service_log_path, chrome_options, service, keep_alive)\u001b[0m\n\u001b[0;32m     78\u001b[0m \u001b[39mif\u001b[39;00m \u001b[39mnot\u001b[39;00m service:\n\u001b[0;32m     79\u001b[0m     service \u001b[39m=\u001b[39m Service(executable_path, port, service_args, service_log_path)\n\u001b[1;32m---> 81\u001b[0m \u001b[39msuper\u001b[39;49m()\u001b[39m.\u001b[39;49m\u001b[39m__init__\u001b[39;49m(\n\u001b[0;32m     82\u001b[0m     DesiredCapabilities\u001b[39m.\u001b[39;49mCHROME[\u001b[39m\"\u001b[39;49m\u001b[39mbrowserName\u001b[39;49m\u001b[39m\"\u001b[39;49m],\n\u001b[0;32m     83\u001b[0m     \u001b[39m\"\u001b[39;49m\u001b[39mgoog\u001b[39;49m\u001b[39m\"\u001b[39;49m,\n\u001b[0;32m     84\u001b[0m     port,\n\u001b[0;32m     85\u001b[0m     options,\n\u001b[0;32m     86\u001b[0m     service_args,\n\u001b[0;32m     87\u001b[0m     desired_capabilities,\n\u001b[0;32m     88\u001b[0m     service_log_path,\n\u001b[0;32m     89\u001b[0m     service,\n\u001b[0;32m     90\u001b[0m     keep_alive,\n\u001b[0;32m     91\u001b[0m )\n",
      "File \u001b[1;32mc:\\Users\\AYNM\\AppData\\Local\\Programs\\Python\\Python311\\Lib\\site-packages\\selenium\\webdriver\\chromium\\webdriver.py:106\u001b[0m, in \u001b[0;36mChromiumDriver.__init__\u001b[1;34m(self, browser_name, vendor_prefix, port, options, service_args, desired_capabilities, service_log_path, service, keep_alive)\u001b[0m\n\u001b[0;32m    103\u001b[0m \u001b[39mself\u001b[39m\u001b[39m.\u001b[39mservice\u001b[39m.\u001b[39mstart()\n\u001b[0;32m    105\u001b[0m \u001b[39mtry\u001b[39;00m:\n\u001b[1;32m--> 106\u001b[0m     \u001b[39msuper\u001b[39;49m()\u001b[39m.\u001b[39;49m\u001b[39m__init__\u001b[39;49m(\n\u001b[0;32m    107\u001b[0m         command_executor\u001b[39m=\u001b[39;49mChromiumRemoteConnection(\n\u001b[0;32m    108\u001b[0m             remote_server_addr\u001b[39m=\u001b[39;49m\u001b[39mself\u001b[39;49m\u001b[39m.\u001b[39;49mservice\u001b[39m.\u001b[39;49mservice_url,\n\u001b[0;32m    109\u001b[0m             browser_name\u001b[39m=\u001b[39;49mbrowser_name,\n\u001b[0;32m    110\u001b[0m             vendor_prefix\u001b[39m=\u001b[39;49mvendor_prefix,\n\u001b[0;32m    111\u001b[0m             keep_alive\u001b[39m=\u001b[39;49mkeep_alive,\n\u001b[0;32m    112\u001b[0m             ignore_proxy\u001b[39m=\u001b[39;49m_ignore_proxy,\n\u001b[0;32m    113\u001b[0m         ),\n\u001b[0;32m    114\u001b[0m         options\u001b[39m=\u001b[39;49moptions,\n\u001b[0;32m    115\u001b[0m     )\n\u001b[0;32m    116\u001b[0m \u001b[39mexcept\u001b[39;00m \u001b[39mException\u001b[39;00m:\n\u001b[0;32m    117\u001b[0m     \u001b[39mself\u001b[39m\u001b[39m.\u001b[39mquit()\n",
      "File \u001b[1;32mc:\\Users\\AYNM\\AppData\\Local\\Programs\\Python\\Python311\\Lib\\site-packages\\selenium\\webdriver\\remote\\webdriver.py:288\u001b[0m, in \u001b[0;36mWebDriver.__init__\u001b[1;34m(self, command_executor, desired_capabilities, browser_profile, proxy, keep_alive, file_detector, options)\u001b[0m\n\u001b[0;32m    286\u001b[0m \u001b[39mself\u001b[39m\u001b[39m.\u001b[39m_authenticator_id \u001b[39m=\u001b[39m \u001b[39mNone\u001b[39;00m\n\u001b[0;32m    287\u001b[0m \u001b[39mself\u001b[39m\u001b[39m.\u001b[39mstart_client()\n\u001b[1;32m--> 288\u001b[0m \u001b[39mself\u001b[39;49m\u001b[39m.\u001b[39;49mstart_session(capabilities, browser_profile)\n",
      "File \u001b[1;32mc:\\Users\\AYNM\\AppData\\Local\\Programs\\Python\\Python311\\Lib\\site-packages\\selenium\\webdriver\\remote\\webdriver.py:381\u001b[0m, in \u001b[0;36mWebDriver.start_session\u001b[1;34m(self, capabilities, browser_profile)\u001b[0m\n\u001b[0;32m    379\u001b[0m w3c_caps \u001b[39m=\u001b[39m _make_w3c_caps(capabilities)\n\u001b[0;32m    380\u001b[0m parameters \u001b[39m=\u001b[39m {\u001b[39m\"\u001b[39m\u001b[39mcapabilities\u001b[39m\u001b[39m\"\u001b[39m: w3c_caps}\n\u001b[1;32m--> 381\u001b[0m response \u001b[39m=\u001b[39m \u001b[39mself\u001b[39;49m\u001b[39m.\u001b[39;49mexecute(Command\u001b[39m.\u001b[39;49mNEW_SESSION, parameters)\n\u001b[0;32m    382\u001b[0m \u001b[39mif\u001b[39;00m \u001b[39m\"\u001b[39m\u001b[39msessionId\u001b[39m\u001b[39m\"\u001b[39m \u001b[39mnot\u001b[39;00m \u001b[39min\u001b[39;00m response:\n\u001b[0;32m    383\u001b[0m     response \u001b[39m=\u001b[39m response[\u001b[39m\"\u001b[39m\u001b[39mvalue\u001b[39m\u001b[39m\"\u001b[39m]\n",
      "File \u001b[1;32mc:\\Users\\AYNM\\AppData\\Local\\Programs\\Python\\Python311\\Lib\\site-packages\\selenium\\webdriver\\remote\\webdriver.py:444\u001b[0m, in \u001b[0;36mWebDriver.execute\u001b[1;34m(self, driver_command, params)\u001b[0m\n\u001b[0;32m    442\u001b[0m response \u001b[39m=\u001b[39m \u001b[39mself\u001b[39m\u001b[39m.\u001b[39mcommand_executor\u001b[39m.\u001b[39mexecute(driver_command, params)\n\u001b[0;32m    443\u001b[0m \u001b[39mif\u001b[39;00m response:\n\u001b[1;32m--> 444\u001b[0m     \u001b[39mself\u001b[39;49m\u001b[39m.\u001b[39;49merror_handler\u001b[39m.\u001b[39;49mcheck_response(response)\n\u001b[0;32m    445\u001b[0m     response[\u001b[39m\"\u001b[39m\u001b[39mvalue\u001b[39m\u001b[39m\"\u001b[39m] \u001b[39m=\u001b[39m \u001b[39mself\u001b[39m\u001b[39m.\u001b[39m_unwrap_value(response\u001b[39m.\u001b[39mget(\u001b[39m\"\u001b[39m\u001b[39mvalue\u001b[39m\u001b[39m\"\u001b[39m, \u001b[39mNone\u001b[39;00m))\n\u001b[0;32m    446\u001b[0m     \u001b[39mreturn\u001b[39;00m response\n",
      "File \u001b[1;32mc:\\Users\\AYNM\\AppData\\Local\\Programs\\Python\\Python311\\Lib\\site-packages\\selenium\\webdriver\\remote\\errorhandler.py:249\u001b[0m, in \u001b[0;36mErrorHandler.check_response\u001b[1;34m(self, response)\u001b[0m\n\u001b[0;32m    247\u001b[0m         alert_text \u001b[39m=\u001b[39m value[\u001b[39m\"\u001b[39m\u001b[39malert\u001b[39m\u001b[39m\"\u001b[39m]\u001b[39m.\u001b[39mget(\u001b[39m\"\u001b[39m\u001b[39mtext\u001b[39m\u001b[39m\"\u001b[39m)\n\u001b[0;32m    248\u001b[0m     \u001b[39mraise\u001b[39;00m exception_class(message, screen, stacktrace, alert_text)  \u001b[39m# type: ignore[call-arg]  # mypy is not smart enough here\u001b[39;00m\n\u001b[1;32m--> 249\u001b[0m \u001b[39mraise\u001b[39;00m exception_class(message, screen, stacktrace)\n",
      "\u001b[1;31mSessionNotCreatedException\u001b[0m: Message: session not created: This version of ChromeDriver only supports Chrome version 113\nCurrent browser version is 116.0.5845.141 with binary path C:\\Program Files\\Google\\Chrome\\Application\\chrome.exe\nStacktrace:\nBacktrace:\n\tGetHandleVerifier [0x011E8893+48451]\n\t(No symbol) [0x0117B8A1]\n\t(No symbol) [0x01085058]\n\t(No symbol) [0x010A5D9C]\n\t(No symbol) [0x010A1AA3]\n\t(No symbol) [0x010A0019]\n\t(No symbol) [0x010D0798]\n\t(No symbol) [0x010D047C]\n\t(No symbol) [0x010CA0B6]\n\t(No symbol) [0x010A7E08]\n\t(No symbol) [0x010A8F2D]\n\tGetHandleVerifier [0x01448E3A+2540266]\n\tGetHandleVerifier [0x01488959+2801161]\n\tGetHandleVerifier [0x0148295C+2776588]\n\tGetHandleVerifier [0x01272280+612144]\n\t(No symbol) [0x01184F6C]\n\t(No symbol) [0x011811D8]\n\t(No symbol) [0x011812BB]\n\t(No symbol) [0x01174857]\n\tBaseThreadInitThunk [0x759F7D59+25]\n\tRtlInitializeExceptionChain [0x7733B79B+107]\n\tRtlClearBits [0x7733B71F+191]\n"
     ]
    }
   ],
   "source": [
    "driver = webdriver.Chrome('./chromedriver.exe', chrome_options=options)\n",
    "print(f'Opening {url} in Chrome browser...')\n",
    "driver.get(url)\n",
    "products_not_found = 0\n",
    "products_not_found_list = []"
   ]
  },
  {
   "cell_type": "code",
   "execution_count": 8,
   "metadata": {},
   "outputs": [],
   "source": [
    "#click login link\n",
    "login_link = WebDriverWait(driver, WAIT_TIME).until(EC.element_to_be_clickable((By.CSS_SELECTOR, 'a[id=\"loginLink\"]'))).click()\n"
   ]
  },
  {
   "cell_type": "code",
   "execution_count": 9,
   "metadata": {},
   "outputs": [],
   "source": [
    "# enter username\n",
    "username_input = WebDriverWait(driver, WAIT_TIME).until(EC.element_to_be_clickable((By.CSS_SELECTOR, 'input[id=\"Username\"]')))\n",
    "username_input.clear()\n",
    "username_input.send_keys(username)\n"
   ]
  },
  {
   "cell_type": "code",
   "execution_count": 10,
   "metadata": {},
   "outputs": [],
   "source": [
    "# enter password\n",
    "password_input = WebDriverWait(driver, WAIT_TIME).until(EC.element_to_be_clickable((By.CSS_SELECTOR, 'input[id=\"Password\"]')))\n",
    "password_input.clear()\n",
    "password_input.send_keys(password)\n",
    "    "
   ]
  },
  {
   "cell_type": "code",
   "execution_count": 11,
   "metadata": {},
   "outputs": [],
   "source": [
    "# click login button\n",
    "login_button = WebDriverWait(driver, WAIT_TIME).until(EC.element_to_be_clickable((By.CSS_SELECTOR, 'input[value=\"Login\"]'))).click()"
   ]
  },
  {
   "cell_type": "code",
   "execution_count": 12,
   "metadata": {},
   "outputs": [
    {
     "name": "stdout",
     "output_type": "stream",
     "text": [
      "vendor: Gator\n",
      "title: Hardshell Case For Trombone\n",
      "model: GC-TROMBONE-23\n",
      "dealer price: 180.90\n",
      "map price: 259.99\n",
      "description: Andante Series Molded ABS Hardshell Case for Tenor Trombone.Durable ABS Design provides a Lightweight and Tough Exterior\n",
      "Contour Molded Plush-Lined Nest Cradles & Protects Instrument During Transport\n",
      "Durable Latches with an Attractive Chrome Finishes for a Professional Look\n",
      "Heavy Duty Aluminum Valance provides a Secure Seal\n",
      "Comfortable Shoulder Strap for Convenient Travel\n",
      "Reinforced Handle provides a Comfortable and Secure Feel\n",
      "Includes Rubber Feet to Protect Finish from Wear\n",
      "img url: https://s3.amazonaws.com/b2b-eriksonmusic/items/Gator/GC-TROMBONE-23/GC-TROMBONE-23~lg.jpg\n",
      "------\n",
      "\n"
     ]
    }
   ],
   "source": [
    "for product_model in product_list:\n",
    "    # enter product model in search box\n",
    "    search_input = WebDriverWait(driver, WAIT_TIME).until(EC.element_to_be_clickable((By.CSS_SELECTOR, 'input[id=\"searchBox\"]')))\n",
    "    search_input.clear()\n",
    "    search_input.send_keys(product_model)\n",
    "    search_input.send_keys(Keys.RETURN)\n",
    "\n",
    "    # click product link\n",
    "    try:\n",
    "        product_link = WebDriverWait(driver, WAIT_TIME).until(EC.element_to_be_clickable((By.XPATH, f\"//a[contains(@href, '{product_model}')]\"))).click()\n",
    "    except:\n",
    "            print(f'Product {product_model} not found')\n",
    "            products_not_found += 1\n",
    "            products_not_found_list.append(product_model)\n",
    "            continue\n",
    "    \n",
    "    try:\n",
    "        product_vendor = WebDriverWait(driver, WAIT_TIME).until(EC.element_to_be_clickable((By.CSS_SELECTOR, \"div[class='catalogTileBrand']\"))).text.strip()\n",
    "    except:\n",
    "        product_vendor = 'Not found'\n",
    "        print('Product vendor not found')\n",
    "    \n",
    "    try:\n",
    "        product_title = WebDriverWait(driver, WAIT_TIME).until(EC.element_to_be_clickable((By.CSS_SELECTOR, \"div[id='itemTitle']\"))).text.strip()\n",
    "    except:\n",
    "        product_title = ''\n",
    "        print('Product title not found')\n",
    "\n",
    "    # product_model = WebDriverWait(driver, WAIT_TIME).until(EC.element_to_be_clickable((By.CSS_SELECTOR, \"div[class='catalogTileID ']\"))).text.split(':')[1].strip()\n",
    "\n",
    "    try:\n",
    "        dealer_price = WebDriverWait(driver, WAIT_TIME).until(EC.element_to_be_clickable((By.CSS_SELECTOR, \"div[id='dealerPrice']\"))).text.strip().replace('$','')\n",
    "    except:\n",
    "        dealer_price = 0\n",
    "        print('Dealer price not found')\n",
    "\n",
    "    try:\n",
    "        list_price = WebDriverWait(driver, WAIT_TIME).until(EC.element_to_be_clickable((By.CSS_SELECTOR, \"div[class='productDetailListPrice']\"))).text.split(':')[1].strip().replace('$','')\n",
    "        map_price = ''\n",
    "    except:\n",
    "        list_price = ''\n",
    "        map_price = WebDriverWait(driver, WAIT_TIME).until(EC.element_to_be_clickable((By.CSS_SELECTOR, \"div[class='productDetailMapPrice']\"))).text.split(':')[1].strip().replace('$','')\n",
    "\n",
    "    try:\n",
    "        product_description = WebDriverWait(driver, WAIT_TIME).until(EC.element_to_be_clickable((By.CSS_SELECTOR, \"div[class='prodcutDescriptionLong']\"))).text\n",
    "    except:\n",
    "        product_description = ''\n",
    "        print('Product description not found')\n",
    "\n",
    "    try:\n",
    "        product_bullets = WebDriverWait(driver, WAIT_TIME).until(EC.element_to_be_clickable((By.CSS_SELECTOR, \"ul[id='itemBullets']\"))).text\n",
    "    except:\n",
    "        product_bullets = ''\n",
    "    \n",
    "    try:\n",
    "        img_url = WebDriverWait(driver, WAIT_TIME).until(EC.element_to_be_clickable((By.CSS_SELECTOR, \"img[id='mainImage']\"))).get_attribute('src')\n",
    "    except:\n",
    "        img_url = 'Not found'\n",
    "        print('Image url not found')\n",
    "\n",
    "    print(f'vendor: {product_vendor}')\n",
    "    print(f'title: {product_title}')\n",
    "    print(f'model: {product_model}')\n",
    "    print(f'dealer price: {dealer_price}')\n",
    "    if len(map_price) > 0:\n",
    "        print(f'map price: {map_price}')\n",
    "    else:\n",
    "        print(f'list price: {list_price}')\n",
    "    print(f'description: {product_description + product_bullets}')\n",
    "    print(f'img url: {img_url}')\n",
    "    print('------\\n')\n",
    "\n",
    "    # add row to dataframe\n",
    "    row = {'Product Name': product_title, 'Product Vendor': product_vendor, 'Product Model': product_model, 'Product List Price': list_price, 'Product MAP Price': map_price, 'Product Cost': dealer_price, 'Product Description': product_description + product_bullets, 'Product Image URL': img_url}\n",
    "    df_new_row = pd.DataFrame([row])\n",
    "    df = pd.concat([df, df_new_row], axis=0, ignore_index=True)\n",
    "\n"
   ]
  },
  {
   "cell_type": "code",
   "execution_count": 13,
   "metadata": {},
   "outputs": [
    {
     "name": "stdout",
     "output_type": "stream",
     "text": [
      "Results saved to CSV file\n",
      "\n",
      "Results:\n",
      "                  Product Name Product Vendor   Product Model  \\\n",
      "0  Hardshell Case For Trombone          Gator  GC-TROMBONE-23   \n",
      "\n",
      "  Product List Price Product MAP Price Product Cost  \\\n",
      "0                               259.99       180.90   \n",
      "\n",
      "                                 Product Description  \\\n",
      "0  Andante Series Molded ABS Hardshell Case for T...   \n",
      "\n",
      "                                   Product Image URL  \n",
      "0  https://s3.amazonaws.com/b2b-eriksonmusic/item...  \n",
      "Number of products found: 1\n",
      "\n",
      "Number of products not found: 0\n",
      "\n"
     ]
    }
   ],
   "source": [
    "# save dataframe to CSV file\n",
    "df.to_csv(output_file, index=False)\n",
    "print('Results saved to CSV file\\n')\n",
    "\n",
    "print('Results:')\n",
    "print(df)\n",
    "\n",
    "print(f'Number of products found: {len(df)}\\n')\n",
    "print(f'Number of products not found: {products_not_found}\\n')\n",
    "if products_not_found > 0:\n",
    "    print('Products not found:')\n",
    "    for product in products_not_found_list:\n",
    "        print(f'\\t{product}')\n",
    "\n",
    "# close browser\n",
    "driver.close()\n",
    "driver.quit()"
   ]
  }
 ],
 "metadata": {
  "kernelspec": {
   "display_name": "Python 3",
   "language": "python",
   "name": "python3"
  },
  "language_info": {
   "codemirror_mode": {
    "name": "ipython",
    "version": 3
   },
   "file_extension": ".py",
   "mimetype": "text/x-python",
   "name": "python",
   "nbconvert_exporter": "python",
   "pygments_lexer": "ipython3",
   "version": "3.11.1"
  },
  "orig_nbformat": 4,
  "vscode": {
   "interpreter": {
    "hash": "22483d8b1f965d2452c1b511f44a4bd7e49889fc595967579bd60fcd72e140d1"
   }
  }
 },
 "nbformat": 4,
 "nbformat_minor": 2
}

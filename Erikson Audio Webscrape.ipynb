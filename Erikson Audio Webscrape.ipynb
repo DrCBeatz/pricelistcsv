{
 "cells": [
  {
   "cell_type": "code",
   "execution_count": null,
   "metadata": {},
   "outputs": [],
   "source": [
    "# declare global variables\n",
    "\n",
    "WAIT_TIME = 10 # seconds\n",
    "ALLOW, BLOCK = 1, 2 # for chrome experimental options\n",
    "HEADLESS = False"
   ]
  },
  {
   "cell_type": "code",
   "execution_count": null,
   "metadata": {},
   "outputs": [],
   "source": [
    "from selenium import webdriver\n",
    "from selenium.webdriver.common.keys import Keys\n",
    "from selenium.webdriver.support import expected_conditions as EC\n",
    "from selenium.webdriver.common.by import By\n",
    "from selenium.webdriver.support.wait import WebDriverWait\n",
    "from selenium.webdriver.chrome.service import Service\n",
    "from selenium.webdriver.chrome.options import Options\n",
    "chrome_options = webdriver.ChromeOptions()\n",
    "chrome_options.add_argument(\"--no-sandbox\")\n",
    "chrome_options.add_argument(\"--disable-infobars\")\n",
    "if HEADLESS:\n",
    "  chrome_options.add_argument(\"--headless\")\n",
    "chrome_options.add_argument(\"--disable-gpu\")\n",
    "chrome_options.add_experimental_option(\"prefs\", { \\\n",
    "    \"profile.default_content_setting_values.media_stream_mic\": 2,     # 1:allow, 2:block \n",
    "    \"profile.default_content_setting_values.media_stream_camera\": 2,  # 1:allow, 2:block \n",
    "    \"profile.default_content_setting_values.geolocation\": 2,          # 1:allow, 2:block \n",
    "    \"profile.default_content_setting_values.notifications\": 2         # 1:allow, 2:block \n",
    "  })\n",
    "\n",
    "import pandas as pd"
   ]
  },
  {
   "cell_type": "code",
   "execution_count": null,
   "metadata": {},
   "outputs": [],
   "source": [
    "# default input & output file names\n",
    "input_file = ''\n",
    "output_file = 'black_lion_output.csv'\n",
    "url = 'https://eriksonaudioonline.com'\n",
    "\n",
    "username = 'instrumusic@hotmail.com'\n",
    "password = 'Talia4400'"
   ]
  },
  {
   "cell_type": "code",
   "execution_count": null,
   "metadata": {},
   "outputs": [],
   "source": [
    "# create empty dataframe\n",
    "df = pd.DataFrame(columns=['Variant SKU', 'Variant Price'])\n",
    "\n",
    "if input_file:\n",
    "    product_df = pd.read_csv(input_file)\n",
    "    product_list = product_df['Variant SKU'].tolist()\n",
    "else:\n",
    "    product_list = [\n",
    "        'PBR-TRS-3',\n",
    "                ]"
   ]
  },
  {
   "cell_type": "code",
   "execution_count": null,
   "metadata": {},
   "outputs": [],
   "source": [
    "print(f'Scraping data for {len(product_list)} products:')\n",
    "for product in product_list:\n",
    "    print(f'\\t{product}')"
   ]
  },
  {
   "cell_type": "code",
   "execution_count": null,
   "metadata": {},
   "outputs": [],
   "source": [
    "service = Service()\n",
    "driver = webdriver.Chrome(service=service, options=chrome_options)\n",
    "\n",
    "print(f'Opening {url} in Chrome browser...')\n",
    "driver.get(url)\n",
    "products_not_found = 0\n",
    "products_not_found_list = []"
   ]
  },
  {
   "cell_type": "code",
   "execution_count": null,
   "metadata": {},
   "outputs": [],
   "source": [
    "# click login link\n",
    "login_link = WebDriverWait(driver, WAIT_TIME).until(EC.element_to_be_clickable((By.CSS_SELECTOR, 'a[id=\"loginLink\"]'))).click()"
   ]
  },
  {
   "cell_type": "code",
   "execution_count": null,
   "metadata": {},
   "outputs": [],
   "source": [
    "# enter username\n",
    "username_input = WebDriverWait(driver, WAIT_TIME).until(EC.element_to_be_clickable((By.CSS_SELECTOR, 'input[id=\"Username\"]')))\n",
    "username_input.clear()\n",
    "username_input.send_keys(username)"
   ]
  },
  {
   "cell_type": "code",
   "execution_count": null,
   "metadata": {},
   "outputs": [],
   "source": [
    "# enter password\n",
    "password_input = WebDriverWait(driver, WAIT_TIME).until(EC.element_to_be_clickable((By.CSS_SELECTOR, 'input[id=\"Password\"]')))\n",
    "password_input.clear()\n",
    "password_input.send_keys(password)\n",
    "    "
   ]
  },
  {
   "cell_type": "code",
   "execution_count": null,
   "metadata": {},
   "outputs": [],
   "source": [
    "# click login button\n",
    "login_button = WebDriverWait(driver, WAIT_TIME).until(EC.element_to_be_clickable((By.CSS_SELECTOR, 'input[value=\"Login\"]'))).click()"
   ]
  },
  {
   "cell_type": "code",
   "execution_count": null,
   "metadata": {},
   "outputs": [],
   "source": [
    "for product_model in product_list:\n",
    "    # enter product model in search box\n",
    "    search_input = WebDriverWait(driver, WAIT_TIME).until(EC.element_to_be_clickable((By.CSS_SELECTOR, 'input[id=\"searchBox\"]')))\n",
    "    search_input.clear()\n",
    "    search_input.send_keys(product_model)\n",
    "    search_input.send_keys(Keys.RETURN)\n",
    "\n",
    "    # click product link\n",
    "    try:\n",
    "        product_link = WebDriverWait(driver, WAIT_TIME).until(EC.element_to_be_clickable((By.XPATH, f\"//a[contains(@href, '{product_model}')]\"))).click()\n",
    "    except:\n",
    "            print(f'Product {product_model} not found')\n",
    "            products_not_found += 1\n",
    "            products_not_found_list.append(product_model)\n",
    "            continue\n",
    "    \n",
    "    try:\n",
    "        product_vendor = WebDriverWait(driver, WAIT_TIME).until(EC.element_to_be_clickable((By.CSS_SELECTOR, \"div[class='catalogTileBrand']\"))).text.strip()\n",
    "    except:\n",
    "        product_vendor = 'Not found'\n",
    "        print('Product vendor not found')\n",
    "    \n",
    "    try:\n",
    "        product_title = WebDriverWait(driver, WAIT_TIME).until(EC.element_to_be_clickable((By.CSS_SELECTOR, \"div[id='itemTitle']\"))).text.strip()\n",
    "    except:\n",
    "        product_title = ''\n",
    "        print('Product title not found')\n",
    "\n",
    "    try:\n",
    "        dealer_price = WebDriverWait(driver, WAIT_TIME).until(EC.element_to_be_clickable((By.CSS_SELECTOR, \"div[id='dealerPrice']\"))).text.strip().replace('$','')\n",
    "    except:\n",
    "        dealer_price = 0\n",
    "        print('Dealer price not found')\n",
    "\n",
    "    try:\n",
    "        list_price = WebDriverWait(driver, WAIT_TIME).until(EC.element_to_be_clickable((By.CSS_SELECTOR, \"div[class='productDetailListPrice']\"))).text.split(':')[1].strip().replace('$','')\n",
    "        map_price = ''\n",
    "    except:\n",
    "        list_price = ''\n",
    "        map_price = WebDriverWait(driver, WAIT_TIME).until(EC.element_to_be_clickable((By.CSS_SELECTOR, \"div[class='productDetailMapPrice']\"))).text.split(':')[1].strip().replace('$','')\n",
    "\n",
    "    try:\n",
    "        product_description = WebDriverWait(driver, WAIT_TIME).until(EC.element_to_be_clickable((By.CSS_SELECTOR, \"div[class='prodcutDescriptionLong']\"))).text\n",
    "    except:\n",
    "        product_description = ''\n",
    "        print('Product description not found')\n",
    "\n",
    "    try:\n",
    "        product_bullets = WebDriverWait(driver, WAIT_TIME).until(EC.element_to_be_clickable((By.CSS_SELECTOR, \"ul[id='itemBullets']\"))).text\n",
    "    except:\n",
    "        product_bullets = ''\n",
    "    \n",
    "    try:\n",
    "        img_url = WebDriverWait(driver, WAIT_TIME).until(EC.element_to_be_clickable((By.CSS_SELECTOR, \"img[id='mainImage']\"))).get_attribute('src')\n",
    "    except:\n",
    "        img_url = 'Not found'\n",
    "        print('Image url not found')\n",
    "\n",
    "    print(f'vendor: {product_vendor}')\n",
    "    print(f'title: {product_title}')\n",
    "    print(f'model: {product_model}')\n",
    "    print(f'dealer price: {dealer_price}')\n",
    "    if len(map_price) > 0:\n",
    "        print(f'map price: {map_price}')\n",
    "    else:\n",
    "        print(f'list price: {list_price}')\n",
    "    print(f'description: {product_description + product_bullets}')\n",
    "    print(f'img url: {img_url}')\n",
    "    print('------\\n')\n",
    "\n",
    "    # add row to dataframe\n",
    "    row = {\n",
    "        'Variant SKU': product_model, \n",
    "        'Vendor': product_vendor, \n",
    "        'Title': f'{product_vendor} {product_title}', \n",
    "        'Body (HTML)': product_description, \n",
    "        'Product Image': img_url, \n",
    "        'Variant Price': map_price, \n",
    "        'Variant Inventory Tracker': 'shopify', \n",
    "        'Variant Inventory Policy': 'continue',\n",
    "        'Cost per item': dealer_price,\n",
    "        }\n",
    "    df_new_row = pd.DataFrame([row])\n",
    "    df = pd.concat([df, df_new_row], axis=0, ignore_index=True)\n",
    "\n"
   ]
  },
  {
   "cell_type": "code",
   "execution_count": null,
   "metadata": {},
   "outputs": [],
   "source": [
    "# save dataframe to CSV file\n",
    "df.to_csv(output_file, index=False)\n",
    "print('Results saved to CSV file\\n')\n",
    "\n",
    "print('Results:')\n",
    "print(df)\n",
    "\n",
    "print(f'Number of products found: {len(df)}\\n')\n",
    "print(f'Number of products not found: {products_not_found}\\n')\n",
    "if products_not_found > 0:\n",
    "    print('Products not found:')\n",
    "    for product in products_not_found_list:\n",
    "        print(f'\\t{product}')\n",
    "\n",
    "# close browser\n",
    "driver.close()\n",
    "driver.quit()"
   ]
  }
 ],
 "metadata": {
  "kernelspec": {
   "display_name": "Python 3",
   "language": "python",
   "name": "python3"
  },
  "language_info": {
   "codemirror_mode": {
    "name": "ipython",
    "version": 3
   },
   "file_extension": ".py",
   "mimetype": "text/x-python",
   "name": "python",
   "nbconvert_exporter": "python",
   "pygments_lexer": "ipython3",
   "version": "3.11.1"
  },
  "orig_nbformat": 4,
  "vscode": {
   "interpreter": {
    "hash": "22483d8b1f965d2452c1b511f44a4bd7e49889fc595967579bd60fcd72e140d1"
   }
  }
 },
 "nbformat": 4,
 "nbformat_minor": 2
}
